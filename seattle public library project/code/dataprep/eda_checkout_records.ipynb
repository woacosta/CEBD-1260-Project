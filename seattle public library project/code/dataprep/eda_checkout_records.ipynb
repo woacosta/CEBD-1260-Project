{
 "cells": [
  {
   "cell_type": "markdown",
   "metadata": {},
   "source": [
    "# EDA for Seattle Public Library Checkout Records\n",
    "### continued from part 2\n",
    "Dataset: The library checkouts for the entire Seattle Public Library system in 2016 merged with the library catalogue information\n",
    "\n",
    "Source: https://www.kaggle.com/seattle-public-library/seattle-library-checkout-records"
   ]
  },
  {
   "cell_type": "code",
   "execution_count": 1,
   "metadata": {},
   "outputs": [],
   "source": [
    "import numpy as np\n",
    "import pandas as pd\n",
    "import matplotlib.pyplot as plt\n",
    "import seaborn as sns\n",
    "%matplotlib inline\n",
    "\n",
    "# style parameters\n",
    "sns.set_style('whitegrid')\n",
    "pd.set_option('display.float_format', lambda x: '%.2f' % x)"
   ]
  },
  {
   "cell_type": "markdown",
   "metadata": {},
   "source": [
    "### Load Data"
   ]
  },
  {
   "cell_type": "code",
   "execution_count": 2,
   "metadata": {},
   "outputs": [],
   "source": [
    "df = pd.read_csv('../../data/processed/mergedlibrary.csv')"
   ]
  },
  {
   "cell_type": "code",
   "execution_count": 4,
   "metadata": {},
   "outputs": [
    {
     "name": "stdout",
     "output_type": "stream",
     "text": [
      "<class 'pandas.core.frame.DataFrame'>\n",
      "RangeIndex: 6404481 entries, 0 to 6404480\n",
      "Data columns (total 15 columns):\n",
      "BibNum              int64\n",
      "CheckoutDateTime    object\n",
      "CheckoutMonth       int64\n",
      "CheckoutDay         int64\n",
      "deweySubject        object\n",
      "Title               object\n",
      "Author              object\n",
      "Publisher           object\n",
      "Age                 float64\n",
      "Description         object\n",
      "Format Group        object\n",
      "Format Subgroup     object\n",
      "Category Group      object\n",
      "Child               float64\n",
      "Teen                float64\n",
      "dtypes: float64(3), int64(3), object(9)\n",
      "memory usage: 732.9+ MB\n"
     ]
    }
   ],
   "source": [
    "df.info()"
   ]
  },
  {
   "cell_type": "code",
   "execution_count": 3,
   "metadata": {},
   "outputs": [
    {
     "data": {
      "text/html": [
       "<div>\n",
       "<style scoped>\n",
       "    .dataframe tbody tr th:only-of-type {\n",
       "        vertical-align: middle;\n",
       "    }\n",
       "\n",
       "    .dataframe tbody tr th {\n",
       "        vertical-align: top;\n",
       "    }\n",
       "\n",
       "    .dataframe thead th {\n",
       "        text-align: right;\n",
       "    }\n",
       "</style>\n",
       "<table border=\"1\" class=\"dataframe\">\n",
       "  <thead>\n",
       "    <tr style=\"text-align: right;\">\n",
       "      <th></th>\n",
       "      <th>BibNum</th>\n",
       "      <th>CheckoutDateTime</th>\n",
       "      <th>CheckoutMonth</th>\n",
       "      <th>CheckoutDay</th>\n",
       "      <th>deweySubject</th>\n",
       "      <th>Title</th>\n",
       "      <th>Author</th>\n",
       "      <th>Publisher</th>\n",
       "      <th>Age</th>\n",
       "      <th>Description</th>\n",
       "      <th>Format Group</th>\n",
       "      <th>Format Subgroup</th>\n",
       "      <th>Category Group</th>\n",
       "      <th>Child</th>\n",
       "      <th>Teen</th>\n",
       "    </tr>\n",
       "  </thead>\n",
       "  <tbody>\n",
       "    <tr>\n",
       "      <th>0</th>\n",
       "      <td>3178331</td>\n",
       "      <td>2016-07-30 11:24:00</td>\n",
       "      <td>7</td>\n",
       "      <td>5</td>\n",
       "      <td>NaN</td>\n",
       "      <td>Wallander. 4 [videorecording] / a Left Bank Pi...</td>\n",
       "      <td>NaN</td>\n",
       "      <td>British Broadcasting Corp. : BBC Video,</td>\n",
       "      <td>1.00</td>\n",
       "      <td>NA-DVD, Fiction</td>\n",
       "      <td>Media</td>\n",
       "      <td>Video Disc</td>\n",
       "      <td>Fiction</td>\n",
       "      <td>0.00</td>\n",
       "      <td>0.00</td>\n",
       "    </tr>\n",
       "  </tbody>\n",
       "</table>\n",
       "</div>"
      ],
      "text/plain": [
       "    BibNum     CheckoutDateTime  CheckoutMonth  CheckoutDay deweySubject  \\\n",
       "0  3178331  2016-07-30 11:24:00              7            5          NaN   \n",
       "\n",
       "                                               Title Author  \\\n",
       "0  Wallander. 4 [videorecording] / a Left Bank Pi...    NaN   \n",
       "\n",
       "                                 Publisher  Age      Description Format Group  \\\n",
       "0  British Broadcasting Corp. : BBC Video, 1.00  NA-DVD, Fiction        Media   \n",
       "\n",
       "  Format Subgroup Category Group  Child  Teen  \n",
       "0      Video Disc        Fiction   0.00  0.00  "
      ]
     },
     "execution_count": 3,
     "metadata": {},
     "output_type": "execute_result"
    }
   ],
   "source": [
    "df.head(1)"
   ]
  },
  {
   "cell_type": "markdown",
   "metadata": {},
   "source": [
    "### Fix DateTime dtype\n",
    "The datetime data type has been removed from CheckoutDateTime for some reason so we reset it"
   ]
  },
  {
   "cell_type": "code",
   "execution_count": 6,
   "metadata": {},
   "outputs": [
    {
     "data": {
      "text/plain": [
       "dtype('<M8[ns]')"
      ]
     },
     "execution_count": 6,
     "metadata": {},
     "output_type": "execute_result"
    }
   ],
   "source": [
    "df['CheckoutDateTime'] = pd.to_datetime(df['CheckoutDateTime'])\n",
    "df['CheckoutDateTime'].dtype"
   ]
  },
  {
   "cell_type": "markdown",
   "metadata": {},
   "source": [
    "### What was the total circulation for 2016?"
   ]
  },
  {
   "cell_type": "code",
   "execution_count": 5,
   "metadata": {},
   "outputs": [
    {
     "name": "stdout",
     "output_type": "stream",
     "text": [
      "Total circulation for all items:  6404481\n"
     ]
    }
   ],
   "source": [
    "print('Total circulation for all items: ',len(df))"
   ]
  },
  {
   "cell_type": "markdown",
   "metadata": {},
   "source": [
    "### How many child and teen specific items were checked out?\n",
    "It's surprising how few teen checkouts there were. This indicates that teens don't just necessarily read teen materials, the teen materials aren't appropriately marked in the system, or teens don't read that much!"
   ]
  },
  {
   "cell_type": "code",
   "execution_count": 72,
   "metadata": {},
   "outputs": [
    {
     "name": "stdout",
     "output_type": "stream",
     "text": [
      "Child materials count:  1856091\n",
      "Teen materials count:  210406\n"
     ]
    }
   ],
   "source": [
    "print('Child materials count: ',df['Child'].value_counts()[1])\n",
    "print('Teen materials count: ',df['Teen'].value_counts()[1])"
   ]
  },
  {
   "cell_type": "markdown",
   "metadata": {},
   "source": [
    "### How many items are checked out each month? Is there a visible trend?\n",
    "January has the most checkouts with 581,494 and October has the fewest with 493,663 checkouts. There is, however, only a difference of 87,831 checkouts between the high and low, which is only a 15.1% difference. Based on this we can say that library usage is very steady.\n",
    "\n",
    "In general, you could say that usage has a downward trend from the beginning of the year to the end but only slightly. A possible explanation is that people want to read more as a New Year's resolution. The small summer bump could be explained by people looking for \"beach reads\" or having more free time on vacation.\n",
    "\n",
    "It would be intersesting to use the full checkout records from 2005-present to see if there are clearer trends. A smaller dataset could be built with just count and checkout time to answer this question. I intend on trying it later on."
   ]
  },
  {
   "cell_type": "code",
   "execution_count": 12,
   "metadata": {},
   "outputs": [
    {
     "name": "stdout",
     "output_type": "stream",
     "text": [
      "CheckoutMonth\n",
      "1     581494\n",
      "2     533778\n",
      "3     575495\n",
      "4     532433\n",
      "5     524994\n",
      "6     538533\n",
      "7     546923\n",
      "8     540271\n",
      "9     520831\n",
      "10    493663\n",
      "11    519277\n",
      "12    496789\n",
      "Name: CheckoutDay, dtype: int64\n"
     ]
    }
   ],
   "source": [
    "byMonth = df.groupby('CheckoutMonth')['CheckoutDay'].count()\n",
    "print(byMonth)\n",
    "\n",
    "# slower way: resample CheckoutDateTime to Month\n",
    "# byMonth = df.groupby([df['CheckoutDateTime'].dt.to_period('M')])['CheckoutMonth'].count()"
   ]
  },
  {
   "cell_type": "code",
   "execution_count": 14,
   "metadata": {},
   "outputs": [
    {
     "data": {
      "image/png": "[encoded data removed]",
      "text/plain": [
       "<Figure size 864x432 with 1 Axes>"
      ]
     },
     "metadata": {},
     "output_type": "display_data"
    }
   ],
   "source": [
    "plt.figure(figsize=(12,6))\n",
    "plt.title('Checkouts per month')\n",
    "plt.xlabel('Month')\n",
    "plt.ylabel('Checkouts')\n",
    "plt.ylim([400000,590000])\n",
    "\n",
    "plt.plot(byMonth.index, byMonth.values)\n",
    "# plt.savefig('../../docs/images/checkoutsbymonth.png')"
   ]
  },
  {
   "cell_type": "markdown",
   "metadata": {},
   "source": [
    "### Diagnostic Analysis\n",
    "#### Why do the monthly checkouts behave the way they do?\n",
    "Drilling down on the checkout counts by media type we can see that the media numbers are pretty consistent for the whole year but the print explains most of the fluctuations in total count month to month. This is clearly visible as the shape of total count takes the same shape as the month to month print fluctuations. Furthermore, in the summer we see that Fiction checkouts increase. This perspective perhaps reinforces the idea of a \"beach reads\" or \"summer reads\" boost as people check out books to read on vacation."
   ]
  },
  {
   "cell_type": "code",
   "execution_count": 19,
   "metadata": {},
   "outputs": [
    {
     "name": "stdout",
     "output_type": "stream",
     "text": [
      "CheckoutMonth  Format Group\n",
      "1              Media           224503\n",
      "               Print           333406\n",
      "2              Media           206856\n",
      "               Print           306539\n",
      "3              Media           224872\n",
      "               Print           329837\n",
      "4              Media           206281\n",
      "               Print           308104\n",
      "5              Media           201697\n",
      "               Print           306827\n",
      "6              Media           201096\n",
      "               Print           321646\n",
      "7              Media           202828\n",
      "               Print           329343\n",
      "8              Media           201488\n",
      "               Print           325116\n",
      "9              Media           196517\n",
      "               Print           311474\n",
      "10             Media           185768\n",
      "               Print           296866\n",
      "11             Media           196691\n",
      "               Print           311726\n",
      "12             Media           199749\n",
      "               Print           287493\n",
      "Name: CheckoutDay, dtype: int64\n"
     ]
    }
   ],
   "source": [
    "print(df.groupby(by=(['CheckoutMonth', 'Format Group']))['CheckoutDay'].count())"
   ]
  },
  {
   "cell_type": "code",
   "execution_count": 18,
   "metadata": {},
   "outputs": [
    {
     "data": {
      "image/png": "[encoded data removed]",
      "text/plain": [
       "<Figure size 864x432 with 1 Axes>"
      ]
     },
     "metadata": {},
     "output_type": "display_data"
    }
   ],
   "source": [
    "plt.figure(figsize=(12,6))\n",
    "plt.title('Checkouts by Media or Print')\n",
    "sns.countplot(x='CheckoutMonth', data=df, hue='Format Group', palette='muted')\n",
    "# plt.savefig('../../docs/images/checkoutsbyformatgroup.png')"
   ]
  },
  {
   "cell_type": "code",
   "execution_count": 20,
   "metadata": {},
   "outputs": [
    {
     "data": {
      "image/png": "[encoded data removed]",
      "text/plain": [
       "<Figure size 864x432 with 1 Axes>"
      ]
     },
     "metadata": {},
     "output_type": "display_data"
    }
   ],
   "source": [
    "plt.figure(figsize=(12,6))\n",
    "plt.title('Checkouts by Format type')\n",
    "sns.countplot(x='CheckoutMonth', data=df, hue='Format Subgroup', palette='pastel')\n",
    "# plt.savefig('../../docs/images/checkoutsbyformatsubgroup.png')"
   ]
  },
  {
   "cell_type": "code",
   "execution_count": 21,
   "metadata": {},
   "outputs": [
    {
     "data": {
      "image/png": "[encoded data removed]",
      "text/plain": [
       "<Figure size 864x432 with 1 Axes>"
      ]
     },
     "metadata": {},
     "output_type": "display_data"
    }
   ],
   "source": [
    "plt.figure(figsize=(12,6))\n",
    "plt.title('Checkouts by Category Group')\n",
    "sns.countplot(x='CheckoutMonth', data=df, hue='Category Group', palette='muted')\n",
    "# plt.savefig('../../docs/images/checkoutsbycategory.png')"
   ]
  },
  {
   "cell_type": "markdown",
   "metadata": {},
   "source": [
    "### What do checkouts look like by day of week?\n",
    "#### Should the library change its hours or close on certain days based on usage?\n",
    "Monday=0 and Sunday=6 in this numbering scheme. Clearly Friday and Sunday are the least popular days. Usage is steady during weekdays with only a 6.9% difference between the high and low. Friday, Saturday, and Sunday fluctuate greatly in comparison. The week's peak happens on Saturday with 1,100,314.\n",
    "\n",
    "The peak on Saturday can be explained by people having more time to go to the library when they are off of work and school. People go out on Fridays and rest on Sundays which could explain the very low usage on those days. In addition, the library likely closes earlier on those days or some branches might be closed entirely."
   ]
  },
  {
   "cell_type": "code",
   "execution_count": 24,
   "metadata": {},
   "outputs": [
    {
     "data": {
      "text/plain": [
       "CheckoutDay\n",
       "0     989204\n",
       "1    1006872\n",
       "2     969021\n",
       "3     937530\n",
       "4     705531\n",
       "5    1100314\n",
       "6     696009\n",
       "Name: CheckoutMonth, dtype: int64"
      ]
     },
     "execution_count": 24,
     "metadata": {},
     "output_type": "execute_result"
    },
    {
     "data": {
      "image/png": "[encoded data removed]",
      "text/plain": [
       "<Figure size 864x432 with 1 Axes>"
      ]
     },
     "metadata": {},
     "output_type": "display_data"
    }
   ],
   "source": [
    "byDay = df.groupby('CheckoutDay')['CheckoutMonth'].count()\n",
    "\n",
    "plt.figure(figsize=(12,6))\n",
    "plt.title('Checkouts by Day of Week')\n",
    "sns.countplot(x='CheckoutDay', data=df)\n",
    "# plt.savefig('../../docs/images/checkoutsbydayofweek.png')\n",
    "byDay"
   ]
  },
  {
   "cell_type": "markdown",
   "metadata": {},
   "source": [
    "### Can the checkout trend for day of the week be explained in a similar way to months?\n",
    "When looking at the format subgroups by day of the week we see that all the bars move together in the same way as general day of week chart. This means that the explanation for day of week trends is probably external and based more on user schedules instead of how those schedules affect their media consumption preferences."
   ]
  },
  {
   "cell_type": "code",
   "execution_count": 25,
   "metadata": {},
   "outputs": [
    {
     "data": {
      "image/png": "[encoded data removed]",
      "text/plain": [
       "<Figure size 864x432 with 1 Axes>"
      ]
     },
     "metadata": {},
     "output_type": "display_data"
    }
   ],
   "source": [
    "plt.figure(figsize=(12,6))\n",
    "plt.title('Checkouts by Day of Week & Format')\n",
    "sns.countplot(x='CheckoutDay', data=df, hue='Format Subgroup')\n",
    "# plt.savefig('../../docs/images/checkoutsbydayofweekformat.png')"
   ]
  },
  {
   "cell_type": "markdown",
   "metadata": {},
   "source": [
    "### What are the most circulated items in 2016?\n",
    "It's quite jarring to see that the most circulated items by title are mostly DVDs. The top spot is actually occupied by a Wifi hotspot device. Filtering that out, we see only 3 books in the top 30."
   ]
  },
  {
   "cell_type": "code",
   "execution_count": 86,
   "metadata": {},
   "outputs": [
    {
     "data": {
      "text/html": [
       "<div>\n",
       "<style scoped>\n",
       "    .dataframe tbody tr th:only-of-type {\n",
       "        vertical-align: middle;\n",
       "    }\n",
       "\n",
       "    .dataframe tbody tr th {\n",
       "        vertical-align: top;\n",
       "    }\n",
       "\n",
       "    .dataframe thead th {\n",
       "        text-align: right;\n",
       "    }\n",
       "</style>\n",
       "<table border=\"1\" class=\"dataframe\">\n",
       "  <thead>\n",
       "    <tr style=\"text-align: right;\">\n",
       "      <th></th>\n",
       "      <th>Title</th>\n",
       "      <th>Format Subgroup</th>\n",
       "      <th>CheckoutDay</th>\n",
       "    </tr>\n",
       "  </thead>\n",
       "  <tbody>\n",
       "    <tr>\n",
       "      <th>1</th>\n",
       "      <td>The Martian [videorecording] / Twentieth Centu...</td>\n",
       "      <td>Video Disc</td>\n",
       "      <td>4137</td>\n",
       "    </tr>\n",
       "    <tr>\n",
       "      <th>2</th>\n",
       "      <td>Bridge of spies [videorecording] / Touchstone ...</td>\n",
       "      <td>Video Disc</td>\n",
       "      <td>3741</td>\n",
       "    </tr>\n",
       "    <tr>\n",
       "      <th>3</th>\n",
       "      <td>The big short [videorecording] / Paramount Pic...</td>\n",
       "      <td>Video Disc</td>\n",
       "      <td>3577</td>\n",
       "    </tr>\n",
       "    <tr>\n",
       "      <th>4</th>\n",
       "      <td>Spotlight [videorecording] / directed by Tom M...</td>\n",
       "      <td>Video Disc</td>\n",
       "      <td>3358</td>\n",
       "    </tr>\n",
       "    <tr>\n",
       "      <th>5</th>\n",
       "      <td>Inside out [videorecording] / Disney ; Pixar A...</td>\n",
       "      <td>Video Disc</td>\n",
       "      <td>3329</td>\n",
       "    </tr>\n",
       "    <tr>\n",
       "      <th>6</th>\n",
       "      <td>SPECTRE [videorecording] / Metro Goldwyn Mayer...</td>\n",
       "      <td>Video Disc</td>\n",
       "      <td>3145</td>\n",
       "    </tr>\n",
       "    <tr>\n",
       "      <th>7</th>\n",
       "      <td>Brooklyn [videorecording] / Fox Searchlight Pi...</td>\n",
       "      <td>Video Disc</td>\n",
       "      <td>2978</td>\n",
       "    </tr>\n",
       "    <tr>\n",
       "      <th>8</th>\n",
       "      <td>Trainwreck [videorecording] / Universal Pictur...</td>\n",
       "      <td>Video Disc</td>\n",
       "      <td>2925</td>\n",
       "    </tr>\n",
       "    <tr>\n",
       "      <th>9</th>\n",
       "      <td>Jurassic world [videorecording] / Universal Pi...</td>\n",
       "      <td>Video Disc</td>\n",
       "      <td>2755</td>\n",
       "    </tr>\n",
       "    <tr>\n",
       "      <th>10</th>\n",
       "      <td>Mission: Impossible. Rogue nation [videorecord...</td>\n",
       "      <td>Video Disc</td>\n",
       "      <td>2705</td>\n",
       "    </tr>\n",
       "    <tr>\n",
       "      <th>11</th>\n",
       "      <td>Room [videorecording] / A24 ; Telefilm Canada ...</td>\n",
       "      <td>Video Disc</td>\n",
       "      <td>2703</td>\n",
       "    </tr>\n",
       "    <tr>\n",
       "      <th>12</th>\n",
       "      <td>The girl on the train / Paula Hawkins.</td>\n",
       "      <td>Book</td>\n",
       "      <td>2676</td>\n",
       "    </tr>\n",
       "    <tr>\n",
       "      <th>13</th>\n",
       "      <td>The revenant [videorecording] / 20th Century F...</td>\n",
       "      <td>Video Disc</td>\n",
       "      <td>2590</td>\n",
       "    </tr>\n",
       "    <tr>\n",
       "      <th>14</th>\n",
       "      <td>Mad Max. Fury road [videorecording] / Warner B...</td>\n",
       "      <td>Video Disc</td>\n",
       "      <td>2546</td>\n",
       "    </tr>\n",
       "    <tr>\n",
       "      <th>15</th>\n",
       "      <td>Ant-Man [videorecording] / Marvel Studios ; pr...</td>\n",
       "      <td>Video Disc</td>\n",
       "      <td>2500</td>\n",
       "    </tr>\n",
       "    <tr>\n",
       "      <th>16</th>\n",
       "      <td>Straight outta Compton [videorecording] / Univ...</td>\n",
       "      <td>Video Disc</td>\n",
       "      <td>2494</td>\n",
       "    </tr>\n",
       "    <tr>\n",
       "      <th>17</th>\n",
       "      <td>Spy [videorecording] / Twentieth Century Fox ;...</td>\n",
       "      <td>Video Disc</td>\n",
       "      <td>2489</td>\n",
       "    </tr>\n",
       "    <tr>\n",
       "      <th>18</th>\n",
       "      <td>Sicario [videorecording] / Lionsgate ; Black L...</td>\n",
       "      <td>Video Disc</td>\n",
       "      <td>2488</td>\n",
       "    </tr>\n",
       "    <tr>\n",
       "      <th>19</th>\n",
       "      <td>Minions [videorecording] / Illumination Entert...</td>\n",
       "      <td>Video Disc</td>\n",
       "      <td>2448</td>\n",
       "    </tr>\n",
       "    <tr>\n",
       "      <th>20</th>\n",
       "      <td>Star wars. Episode VII, The force awakens / Lu...</td>\n",
       "      <td>Video Disc</td>\n",
       "      <td>2424</td>\n",
       "    </tr>\n",
       "    <tr>\n",
       "      <th>21</th>\n",
       "      <td>Between the world and me / Ta-Nehisi Coates.</td>\n",
       "      <td>Book</td>\n",
       "      <td>2414</td>\n",
       "    </tr>\n",
       "    <tr>\n",
       "      <th>22</th>\n",
       "      <td>The hateful eight [videorecording] / The Weins...</td>\n",
       "      <td>Video Disc</td>\n",
       "      <td>2402</td>\n",
       "    </tr>\n",
       "    <tr>\n",
       "      <th>23</th>\n",
       "      <td>Carol [videorecording] / The Weinstein Company...</td>\n",
       "      <td>Video Disc</td>\n",
       "      <td>2351</td>\n",
       "    </tr>\n",
       "    <tr>\n",
       "      <th>24</th>\n",
       "      <td>When breath becomes air / Paul Kalanithi ; for...</td>\n",
       "      <td>Book</td>\n",
       "      <td>2338</td>\n",
       "    </tr>\n",
       "    <tr>\n",
       "      <th>25</th>\n",
       "      <td>The Danish girl [videorecording] / Focus Featu...</td>\n",
       "      <td>Video Disc</td>\n",
       "      <td>2329</td>\n",
       "    </tr>\n",
       "    <tr>\n",
       "      <th>26</th>\n",
       "      <td>Mr. Holmes [videorecording] / Miramax ; Roadsi...</td>\n",
       "      <td>Video Disc</td>\n",
       "      <td>2319</td>\n",
       "    </tr>\n",
       "    <tr>\n",
       "      <th>27</th>\n",
       "      <td>Steve Jobs [videorecording] / Universal Pictur...</td>\n",
       "      <td>Video Disc</td>\n",
       "      <td>2313</td>\n",
       "    </tr>\n",
       "    <tr>\n",
       "      <th>28</th>\n",
       "      <td>In Building Device Checkout</td>\n",
       "      <td>Book</td>\n",
       "      <td>2285</td>\n",
       "    </tr>\n",
       "    <tr>\n",
       "      <th>29</th>\n",
       "      <td>Ex machina [videorecording] / A24 ; Universal ...</td>\n",
       "      <td>Video Disc</td>\n",
       "      <td>2269</td>\n",
       "    </tr>\n",
       "    <tr>\n",
       "      <th>30</th>\n",
       "      <td>Fates and furies / Lauren Groff.</td>\n",
       "      <td>Book</td>\n",
       "      <td>2224</td>\n",
       "    </tr>\n",
       "  </tbody>\n",
       "</table>\n",
       "</div>"
      ],
      "text/plain": [
       "                                                Title Format Subgroup  \\\n",
       "1   The Martian [videorecording] / Twentieth Centu...      Video Disc   \n",
       "2   Bridge of spies [videorecording] / Touchstone ...      Video Disc   \n",
       "3   The big short [videorecording] / Paramount Pic...      Video Disc   \n",
       "4   Spotlight [videorecording] / directed by Tom M...      Video Disc   \n",
       "5   Inside out [videorecording] / Disney ; Pixar A...      Video Disc   \n",
       "6   SPECTRE [videorecording] / Metro Goldwyn Mayer...      Video Disc   \n",
       "7   Brooklyn [videorecording] / Fox Searchlight Pi...      Video Disc   \n",
       "8   Trainwreck [videorecording] / Universal Pictur...      Video Disc   \n",
       "9   Jurassic world [videorecording] / Universal Pi...      Video Disc   \n",
       "10  Mission: Impossible. Rogue nation [videorecord...      Video Disc   \n",
       "11  Room [videorecording] / A24 ; Telefilm Canada ...      Video Disc   \n",
       "12             The girl on the train / Paula Hawkins.            Book   \n",
       "13  The revenant [videorecording] / 20th Century F...      Video Disc   \n",
       "14  Mad Max. Fury road [videorecording] / Warner B...      Video Disc   \n",
       "15  Ant-Man [videorecording] / Marvel Studios ; pr...      Video Disc   \n",
       "16  Straight outta Compton [videorecording] / Univ...      Video Disc   \n",
       "17  Spy [videorecording] / Twentieth Century Fox ;...      Video Disc   \n",
       "18  Sicario [videorecording] / Lionsgate ; Black L...      Video Disc   \n",
       "19  Minions [videorecording] / Illumination Entert...      Video Disc   \n",
       "20  Star wars. Episode VII, The force awakens / Lu...      Video Disc   \n",
       "21       Between the world and me / Ta-Nehisi Coates.            Book   \n",
       "22  The hateful eight [videorecording] / The Weins...      Video Disc   \n",
       "23  Carol [videorecording] / The Weinstein Company...      Video Disc   \n",
       "24  When breath becomes air / Paul Kalanithi ; for...            Book   \n",
       "25  The Danish girl [videorecording] / Focus Featu...      Video Disc   \n",
       "26  Mr. Holmes [videorecording] / Miramax ; Roadsi...      Video Disc   \n",
       "27  Steve Jobs [videorecording] / Universal Pictur...      Video Disc   \n",
       "28                        In Building Device Checkout            Book   \n",
       "29  Ex machina [videorecording] / A24 ; Universal ...      Video Disc   \n",
       "30                   Fates and furies / Lauren Groff.            Book   \n",
       "\n",
       "    CheckoutDay  \n",
       "1          4137  \n",
       "2          3741  \n",
       "3          3577  \n",
       "4          3358  \n",
       "5          3329  \n",
       "6          3145  \n",
       "7          2978  \n",
       "8          2925  \n",
       "9          2755  \n",
       "10         2705  \n",
       "11         2703  \n",
       "12         2676  \n",
       "13         2590  \n",
       "14         2546  \n",
       "15         2500  \n",
       "16         2494  \n",
       "17         2489  \n",
       "18         2488  \n",
       "19         2448  \n",
       "20         2424  \n",
       "21         2414  \n",
       "22         2402  \n",
       "23         2351  \n",
       "24         2338  \n",
       "25         2329  \n",
       "26         2319  \n",
       "27         2313  \n",
       "28         2285  \n",
       "29         2269  \n",
       "30         2224  "
      ]
     },
     "execution_count": 86,
     "metadata": {},
     "output_type": "execute_result"
    }
   ],
   "source": [
    "df.groupby(by=['Title','Format Subgroup'])['CheckoutDay'].count().sort_values(ascending=False).reset_index()[1:31]"
   ]
  },
  {
   "cell_type": "markdown",
   "metadata": {},
   "source": [
    "### Most circulated books"
   ]
  },
  {
   "cell_type": "code",
   "execution_count": 53,
   "metadata": {},
   "outputs": [
    {
     "name": "stdout",
     "output_type": "stream",
     "text": [
      "20 most circulated books\n",
      "\n"
     ]
    },
    {
     "data": {
      "text/html": [
       "<div>\n",
       "<style scoped>\n",
       "    .dataframe tbody tr th:only-of-type {\n",
       "        vertical-align: middle;\n",
       "    }\n",
       "\n",
       "    .dataframe tbody tr th {\n",
       "        vertical-align: top;\n",
       "    }\n",
       "\n",
       "    .dataframe thead th {\n",
       "        text-align: right;\n",
       "    }\n",
       "</style>\n",
       "<table border=\"1\" class=\"dataframe\">\n",
       "  <thead>\n",
       "    <tr style=\"text-align: right;\">\n",
       "      <th></th>\n",
       "      <th>Title</th>\n",
       "      <th>CheckoutDay</th>\n",
       "    </tr>\n",
       "  </thead>\n",
       "  <tbody>\n",
       "    <tr>\n",
       "      <th>0</th>\n",
       "      <td>The girl on the train / Paula Hawkins.</td>\n",
       "      <td>2676</td>\n",
       "    </tr>\n",
       "    <tr>\n",
       "      <th>1</th>\n",
       "      <td>Between the world and me / Ta-Nehisi Coates.</td>\n",
       "      <td>2414</td>\n",
       "    </tr>\n",
       "    <tr>\n",
       "      <th>2</th>\n",
       "      <td>When breath becomes air / Paul Kalanithi ; for...</td>\n",
       "      <td>2338</td>\n",
       "    </tr>\n",
       "    <tr>\n",
       "      <th>3</th>\n",
       "      <td>In Building Device Checkout</td>\n",
       "      <td>2285</td>\n",
       "    </tr>\n",
       "    <tr>\n",
       "      <th>4</th>\n",
       "      <td>Fates and furies / Lauren Groff.</td>\n",
       "      <td>2224</td>\n",
       "    </tr>\n",
       "    <tr>\n",
       "      <th>5</th>\n",
       "      <td>All the light we cannot see : a novel / Anthon...</td>\n",
       "      <td>2082</td>\n",
       "    </tr>\n",
       "    <tr>\n",
       "      <th>6</th>\n",
       "      <td>The life-changing magic of tidying up : the Ja...</td>\n",
       "      <td>1803</td>\n",
       "    </tr>\n",
       "    <tr>\n",
       "      <th>7</th>\n",
       "      <td>Being mortal : medicine and what matters in th...</td>\n",
       "      <td>1592</td>\n",
       "    </tr>\n",
       "    <tr>\n",
       "      <th>8</th>\n",
       "      <td>The nightingale / Kristin Hannah.</td>\n",
       "      <td>1592</td>\n",
       "    </tr>\n",
       "    <tr>\n",
       "      <th>9</th>\n",
       "      <td>My name is Lucy Barton : a novel / Elizabeth S...</td>\n",
       "      <td>1457</td>\n",
       "    </tr>\n",
       "    <tr>\n",
       "      <th>10</th>\n",
       "      <td>Pigs make me sneeze! / by Mo Willems.</td>\n",
       "      <td>1381</td>\n",
       "    </tr>\n",
       "    <tr>\n",
       "      <th>11</th>\n",
       "      <td>Are you ready to play outside? / by Mo Willems.</td>\n",
       "      <td>1222</td>\n",
       "    </tr>\n",
       "    <tr>\n",
       "      <th>12</th>\n",
       "      <td>Spark joy : an illustrated master class on the...</td>\n",
       "      <td>1221</td>\n",
       "    </tr>\n",
       "    <tr>\n",
       "      <th>13</th>\n",
       "      <td>There is a bird on your head! / by Mo Willems.</td>\n",
       "      <td>1198</td>\n",
       "    </tr>\n",
       "    <tr>\n",
       "      <th>14</th>\n",
       "      <td>I love my new toy! / by Mo Willems.</td>\n",
       "      <td>1191</td>\n",
       "    </tr>\n",
       "    <tr>\n",
       "      <th>15</th>\n",
       "      <td>A little life : a novel / Hanya Yanagihara.</td>\n",
       "      <td>1185</td>\n",
       "    </tr>\n",
       "    <tr>\n",
       "      <th>16</th>\n",
       "      <td>My brilliant friend : childhood, adolescence /...</td>\n",
       "      <td>1175</td>\n",
       "    </tr>\n",
       "    <tr>\n",
       "      <th>17</th>\n",
       "      <td>I broke my trunk! / by Mo Willems.</td>\n",
       "      <td>1159</td>\n",
       "    </tr>\n",
       "    <tr>\n",
       "      <th>18</th>\n",
       "      <td>I will surprise my friend! / by Mo Willems.</td>\n",
       "      <td>1130</td>\n",
       "    </tr>\n",
       "    <tr>\n",
       "      <th>19</th>\n",
       "      <td>Elephants cannot dance! / by Mo Willems.</td>\n",
       "      <td>1126</td>\n",
       "    </tr>\n",
       "    <tr>\n",
       "      <th>20</th>\n",
       "      <td>Harry Potter and the cursed child. Parts one a...</td>\n",
       "      <td>1123</td>\n",
       "    </tr>\n",
       "    <tr>\n",
       "      <th>21</th>\n",
       "      <td>Listen to my trumpet! / by Mo Willems.</td>\n",
       "      <td>1118</td>\n",
       "    </tr>\n",
       "    <tr>\n",
       "      <th>22</th>\n",
       "      <td>Today I will fly! / by Mo Willems.</td>\n",
       "      <td>1117</td>\n",
       "    </tr>\n",
       "    <tr>\n",
       "      <th>23</th>\n",
       "      <td>I am going! / by Mo Willems.</td>\n",
       "      <td>1117</td>\n",
       "    </tr>\n",
       "    <tr>\n",
       "      <th>24</th>\n",
       "      <td>El deafo / Cece Bell ; color by David Lasky.</td>\n",
       "      <td>1104</td>\n",
       "    </tr>\n",
       "    <tr>\n",
       "      <th>25</th>\n",
       "      <td>My friend is sad / by Mo Willems.</td>\n",
       "      <td>1082</td>\n",
       "    </tr>\n",
       "    <tr>\n",
       "      <th>26</th>\n",
       "      <td>We are in a book! / [by Mo Willems].</td>\n",
       "      <td>1077</td>\n",
       "    </tr>\n",
       "    <tr>\n",
       "      <th>27</th>\n",
       "      <td>The girls : a novel / Emma Cline.</td>\n",
       "      <td>1068</td>\n",
       "    </tr>\n",
       "    <tr>\n",
       "      <th>28</th>\n",
       "      <td>The nest / Cynthia D'Aprix Sweeney.</td>\n",
       "      <td>1067</td>\n",
       "    </tr>\n",
       "    <tr>\n",
       "      <th>29</th>\n",
       "      <td>The summer before the war : a novel / Helen Si...</td>\n",
       "      <td>1059</td>\n",
       "    </tr>\n",
       "    <tr>\n",
       "      <th>30</th>\n",
       "      <td>Let's go for a drive! / by Mo Willems.</td>\n",
       "      <td>1058</td>\n",
       "    </tr>\n",
       "  </tbody>\n",
       "</table>\n",
       "</div>"
      ],
      "text/plain": [
       "                                                Title  CheckoutDay\n",
       "0              The girl on the train / Paula Hawkins.         2676\n",
       "1        Between the world and me / Ta-Nehisi Coates.         2414\n",
       "2   When breath becomes air / Paul Kalanithi ; for...         2338\n",
       "3                         In Building Device Checkout         2285\n",
       "4                    Fates and furies / Lauren Groff.         2224\n",
       "5   All the light we cannot see : a novel / Anthon...         2082\n",
       "6   The life-changing magic of tidying up : the Ja...         1803\n",
       "7   Being mortal : medicine and what matters in th...         1592\n",
       "8                   The nightingale / Kristin Hannah.         1592\n",
       "9   My name is Lucy Barton : a novel / Elizabeth S...         1457\n",
       "10              Pigs make me sneeze! / by Mo Willems.         1381\n",
       "11    Are you ready to play outside? / by Mo Willems.         1222\n",
       "12  Spark joy : an illustrated master class on the...         1221\n",
       "13     There is a bird on your head! / by Mo Willems.         1198\n",
       "14                I love my new toy! / by Mo Willems.         1191\n",
       "15        A little life : a novel / Hanya Yanagihara.         1185\n",
       "16  My brilliant friend : childhood, adolescence /...         1175\n",
       "17                 I broke my trunk! / by Mo Willems.         1159\n",
       "18        I will surprise my friend! / by Mo Willems.         1130\n",
       "19           Elephants cannot dance! / by Mo Willems.         1126\n",
       "20  Harry Potter and the cursed child. Parts one a...         1123\n",
       "21             Listen to my trumpet! / by Mo Willems.         1118\n",
       "22                 Today I will fly! / by Mo Willems.         1117\n",
       "23                       I am going! / by Mo Willems.         1117\n",
       "24       El deafo / Cece Bell ; color by David Lasky.         1104\n",
       "25                  My friend is sad / by Mo Willems.         1082\n",
       "26               We are in a book! / [by Mo Willems].         1077\n",
       "27                  The girls : a novel / Emma Cline.         1068\n",
       "28                The nest / Cynthia D'Aprix Sweeney.         1067\n",
       "29  The summer before the war : a novel / Helen Si...         1059\n",
       "30             Let's go for a drive! / by Mo Willems.         1058"
      ]
     },
     "execution_count": 53,
     "metadata": {},
     "output_type": "execute_result"
    }
   ],
   "source": [
    "print('20 most circulated books\\n')\n",
    "df[(df['Format Subgroup']=='Book') & (df['BibNum']!=3030520)]\\\n",
    ".groupby(by=['Title'])['CheckoutDay'].count().sort_values(ascending=False).reset_index()[:31]"
   ]
  },
  {
   "cell_type": "code",
   "execution_count": 54,
   "metadata": {},
   "outputs": [
    {
     "data": {
      "text/plain": [
       "BibNum                    0\n",
       "CheckoutDateTime          0\n",
       "CheckoutMonth             0\n",
       "CheckoutDay               0\n",
       "deweySubject        4081881\n",
       "Title                188108\n",
       "Author              2231196\n",
       "Publisher            190149\n",
       "Age                  187758\n",
       "Description          187758\n",
       "Format Group         187758\n",
       "Format Subgroup      187758\n",
       "Category Group      1311689\n",
       "Child                187758\n",
       "Teen                 187758\n",
       "dtype: int64"
      ]
     },
     "execution_count": 54,
     "metadata": {},
     "output_type": "execute_result"
    }
   ],
   "source": [
    "df.isnull().sum()"
   ]
  },
  {
   "cell_type": "code",
   "execution_count": 55,
   "metadata": {},
   "outputs": [],
   "source": [
    "df.dropna(subset=['Description'], inplace=True)"
   ]
  },
  {
   "cell_type": "code",
   "execution_count": 56,
   "metadata": {},
   "outputs": [
    {
     "data": {
      "text/plain": [
       "BibNum                    0\n",
       "CheckoutDateTime          0\n",
       "CheckoutMonth             0\n",
       "CheckoutDay               0\n",
       "deweySubject        3966413\n",
       "Title                   350\n",
       "Author              2043438\n",
       "Publisher              2391\n",
       "Age                       0\n",
       "Description               0\n",
       "Format Group              0\n",
       "Format Subgroup           0\n",
       "Category Group      1123931\n",
       "Child                     0\n",
       "Teen                      0\n",
       "dtype: int64"
      ]
     },
     "execution_count": 56,
     "metadata": {},
     "output_type": "execute_result"
    }
   ],
   "source": [
    "df.isnull().sum()"
   ]
  },
  {
   "cell_type": "markdown",
   "metadata": {},
   "source": [
    "### Which nonfiction subjects should the library focus on when making new acquisitions?\n",
    "#### What general nonfiction subjects circulate most?\n",
    "\n",
    "The library has a mission to provide access to culture and make a wide variety of items available to the public but to meet demand they need to know what specific areas are most popular. From the analysis of subjects used in Dewey decimal classification it is clear that Arts and Recreation is the most popular followed by Technology.\n",
    "\n",
    "#### Why is Arts & Recreation such a popular subject?\n",
    "\n",
    "Looking more closely at the format type it is clear that CDs are artificially raising the total. Despite this, if we only look at the books by subject the picture is about the same. However, drilling down even deeper, if we filter only those books with the description NA-Nonfiction which refers to the main adult nonfiction collection, the picture is a little different. Mainly, technology is the most popular nonfiction book subject. It is an exercise worth doing to emphasize that you need a clear definition of something when you want to analyze it. From a business perspective, the lesson is important because if you don't understand the parameters of your data you risk coming to incorrect conclusions."
   ]
  },
  {
   "cell_type": "code",
   "execution_count": 64,
   "metadata": {},
   "outputs": [
    {
     "data": {
      "image/png": "[encoded data removed]",
      "text/plain": [
       "<Figure size 864x432 with 1 Axes>"
      ]
     },
     "metadata": {},
     "output_type": "display_data"
    }
   ],
   "source": [
    "plt.figure(figsize=(12,6))\n",
    "plt.title('Nonfiction checkouts')\n",
    "plt.xticks(rotation=45)\n",
    "sns.countplot(x='deweySubject', data=df)\n",
    "# plt.savefig('../../docs/images/nonfictionbysubject.png')"
   ]
  },
  {
   "cell_type": "code",
   "execution_count": 63,
   "metadata": {},
   "outputs": [
    {
     "data": {
      "image/png": "[encoded data removed]",
      "text/plain": [
       "<Figure size 864x432 with 1 Axes>"
      ]
     },
     "metadata": {},
     "output_type": "display_data"
    }
   ],
   "source": [
    "plt.figure(figsize=(12,6))\n",
    "plt.title('Nonfiction by type')\n",
    "plt.xticks(rotation=45)\n",
    "ax = sns.countplot(x='deweySubject', data=df, hue='Format Subgroup')\n",
    "ax.legend(loc='upper right', frameon=False)\n",
    "# plt.savefig('../../docs/images/nonfictionbysubjectformat.png')"
   ]
  },
  {
   "cell_type": "markdown",
   "metadata": {},
   "source": [
    "#### What is the most common type of nonfiction?"
   ]
  },
  {
   "cell_type": "code",
   "execution_count": 65,
   "metadata": {},
   "outputs": [
    {
     "data": {
      "text/plain": [
       "NA-Nonfiction                        569158\n",
       "CA-Nonfiction                        291444\n",
       "NC-Children's Comics                 149428\n",
       "NC-Children's Nonfiction             129324\n",
       "NY-Teen - Comics & Graphic Novels     88997\n",
       "Name: Description, dtype: int64"
      ]
     },
     "execution_count": 65,
     "metadata": {},
     "output_type": "execute_result"
    }
   ],
   "source": [
    "df[(df['deweySubject'].isnull()==False) & (df['Format Subgroup']=='Book')]['Description'].value_counts()[:5]"
   ]
  },
  {
   "cell_type": "markdown",
   "metadata": {},
   "source": [
    "#### Show adult nonfiction books only"
   ]
  },
  {
   "cell_type": "code",
   "execution_count": 66,
   "metadata": {},
   "outputs": [
    {
     "data": {
      "text/html": [
       "<div>\n",
       "<style scoped>\n",
       "    .dataframe tbody tr th:only-of-type {\n",
       "        vertical-align: middle;\n",
       "    }\n",
       "\n",
       "    .dataframe tbody tr th {\n",
       "        vertical-align: top;\n",
       "    }\n",
       "\n",
       "    .dataframe thead th {\n",
       "        text-align: right;\n",
       "    }\n",
       "</style>\n",
       "<table border=\"1\" class=\"dataframe\">\n",
       "  <thead>\n",
       "    <tr style=\"text-align: right;\">\n",
       "      <th></th>\n",
       "      <th>deweySubject</th>\n",
       "      <th>Format Group</th>\n",
       "    </tr>\n",
       "  </thead>\n",
       "  <tbody>\n",
       "    <tr>\n",
       "      <th>0</th>\n",
       "      <td>Arts &amp; Recreation</td>\n",
       "      <td>94204</td>\n",
       "    </tr>\n",
       "    <tr>\n",
       "      <th>1</th>\n",
       "      <td>Computer Science</td>\n",
       "      <td>11805</td>\n",
       "    </tr>\n",
       "    <tr>\n",
       "      <th>2</th>\n",
       "      <td>History &amp; Geography</td>\n",
       "      <td>79206</td>\n",
       "    </tr>\n",
       "    <tr>\n",
       "      <th>3</th>\n",
       "      <td>Language</td>\n",
       "      <td>8381</td>\n",
       "    </tr>\n",
       "    <tr>\n",
       "      <th>4</th>\n",
       "      <td>Literature</td>\n",
       "      <td>31391</td>\n",
       "    </tr>\n",
       "    <tr>\n",
       "      <th>5</th>\n",
       "      <td>Philosophy &amp; Psychology</td>\n",
       "      <td>34784</td>\n",
       "    </tr>\n",
       "    <tr>\n",
       "      <th>6</th>\n",
       "      <td>Pure Science</td>\n",
       "      <td>20577</td>\n",
       "    </tr>\n",
       "    <tr>\n",
       "      <th>7</th>\n",
       "      <td>Religion</td>\n",
       "      <td>17336</td>\n",
       "    </tr>\n",
       "    <tr>\n",
       "      <th>8</th>\n",
       "      <td>Social Sciences</td>\n",
       "      <td>86029</td>\n",
       "    </tr>\n",
       "    <tr>\n",
       "      <th>9</th>\n",
       "      <td>Technology</td>\n",
       "      <td>185445</td>\n",
       "    </tr>\n",
       "  </tbody>\n",
       "</table>\n",
       "</div>"
      ],
      "text/plain": [
       "              deweySubject  Format Group\n",
       "0        Arts & Recreation         94204\n",
       "1         Computer Science         11805\n",
       "2      History & Geography         79206\n",
       "3                 Language          8381\n",
       "4               Literature         31391\n",
       "5  Philosophy & Psychology         34784\n",
       "6             Pure Science         20577\n",
       "7                 Religion         17336\n",
       "8          Social Sciences         86029\n",
       "9               Technology        185445"
      ]
     },
     "execution_count": 66,
     "metadata": {},
     "output_type": "execute_result"
    }
   ],
   "source": [
    "df_dewey = df[(df['deweySubject'].isnull()==False) &(df['Description']=='NA-Nonfiction')]\\\n",
    ".groupby('deweySubject')['Format Group'].count().reset_index()\n",
    "df_dewey"
   ]
  },
  {
   "cell_type": "code",
   "execution_count": 67,
   "metadata": {},
   "outputs": [
    {
     "data": {
      "image/png": "[encoded data removed]",
      "text/plain": [
       "<Figure size 864x432 with 1 Axes>"
      ]
     },
     "metadata": {},
     "output_type": "display_data"
    }
   ],
   "source": [
    "plt.figure(figsize=(12,6))\n",
    "plt.title('Adult Nonfiction books by Subject')\n",
    "plt.xticks(rotation=45)\n",
    "ax = sns.barplot(x='deweySubject',y='Format Group',data=df_dewey)\n",
    "ax.set_xlabel('Total Copies')\n",
    "# plt.savefig('../../docs/images/adultnonfictionbooksbysubject.png')"
   ]
  },
  {
   "cell_type": "markdown",
   "metadata": {},
   "source": [
    "### Multiple variables (Numeric x Numeric)\n",
    "There aren't many numeric columns to work with but I expect to make some using one hot encoding for the different format types and subjects(non-fiction only).\n",
    "\n",
    "From the correlation table we can see that the relationships between count and the available attributes are pretty weak. Age and whether or not an item is specifically for children are the strongest among them. It would make sense that the older an item is the less it is checked out based on cursory glances at the most popular items. Material for children is also a specific type of item that is checked out but high checkout count doesn't seem to be related strongly."
   ]
  },
  {
   "cell_type": "code",
   "execution_count": 74,
   "metadata": {},
   "outputs": [],
   "source": [
    "df_num = df.groupby(by=['BibNum','Title','Age','Child','Teen'])['CheckoutDay'].count().sort_values(ascending=False).reset_index()"
   ]
  },
  {
   "cell_type": "code",
   "execution_count": 76,
   "metadata": {},
   "outputs": [
    {
     "data": {
      "text/html": [
       "<div>\n",
       "<style scoped>\n",
       "    .dataframe tbody tr th:only-of-type {\n",
       "        vertical-align: middle;\n",
       "    }\n",
       "\n",
       "    .dataframe tbody tr th {\n",
       "        vertical-align: top;\n",
       "    }\n",
       "\n",
       "    .dataframe thead th {\n",
       "        text-align: right;\n",
       "    }\n",
       "</style>\n",
       "<table border=\"1\" class=\"dataframe\">\n",
       "  <thead>\n",
       "    <tr style=\"text-align: right;\">\n",
       "      <th></th>\n",
       "      <th>Age</th>\n",
       "      <th>Child</th>\n",
       "      <th>Teen</th>\n",
       "      <th>Count</th>\n",
       "    </tr>\n",
       "  </thead>\n",
       "  <tbody>\n",
       "    <tr>\n",
       "      <th>Age</th>\n",
       "      <td>1.00</td>\n",
       "      <td>-0.07</td>\n",
       "      <td>-0.10</td>\n",
       "      <td>-0.12</td>\n",
       "    </tr>\n",
       "    <tr>\n",
       "      <th>Child</th>\n",
       "      <td>-0.07</td>\n",
       "      <td>1.00</td>\n",
       "      <td>-0.11</td>\n",
       "      <td>0.10</td>\n",
       "    </tr>\n",
       "    <tr>\n",
       "      <th>Teen</th>\n",
       "      <td>-0.10</td>\n",
       "      <td>-0.11</td>\n",
       "      <td>1.00</td>\n",
       "      <td>-0.03</td>\n",
       "    </tr>\n",
       "    <tr>\n",
       "      <th>Count</th>\n",
       "      <td>-0.12</td>\n",
       "      <td>0.10</td>\n",
       "      <td>-0.03</td>\n",
       "      <td>1.00</td>\n",
       "    </tr>\n",
       "  </tbody>\n",
       "</table>\n",
       "</div>"
      ],
      "text/plain": [
       "        Age  Child  Teen  Count\n",
       "Age    1.00  -0.07 -0.10  -0.12\n",
       "Child -0.07   1.00 -0.11   0.10\n",
       "Teen  -0.10  -0.11  1.00  -0.03\n",
       "Count -0.12   0.10 -0.03   1.00"
      ]
     },
     "execution_count": 76,
     "metadata": {},
     "output_type": "execute_result"
    }
   ],
   "source": [
    "df_num.rename(columns={'CheckoutDay':'Count'}, inplace=True)\n",
    "df_num = df_num[(['Age','Child','Teen','Count'])]\n",
    "df_num.corr()"
   ]
  },
  {
   "cell_type": "code",
   "execution_count": 78,
   "metadata": {},
   "outputs": [
    {
     "data": {
      "image/png": "[encoded data removed]",
      "text/plain": [
       "<Figure size 720x576 with 2 Axes>"
      ]
     },
     "metadata": {},
     "output_type": "display_data"
    }
   ],
   "source": [
    "plt.figure(figsize=(10,8))\n",
    "plt.title('Heatmap')\n",
    "sns.heatmap(df_num.corr(),cmap='viridis',annot=True, square=True)\n",
    "# plt.savefig('../../docs/images/numericheatmap.png')"
   ]
  },
  {
   "cell_type": "markdown",
   "metadata": {},
   "source": [
    "### Investigating Age vs Checkout Count Further\n",
    "It seems clear that the books that are checked out most frequently as we see the high checkout counts only along the bottom of the chart. As age goes up the counts tend to stick towards the low count total. 75% of the count total is from books from the last 8 years and almost a quarter of them are from the last 2 years! This seems to give the library a mandate to continue to acquire the latest materials. The only caveat might be that patrons check out new books because the library buys so many copies of new items and promotes them heavily. A library could show this to publishers and negotiate a deal to promote certain books. The ethics of this is another question entirely."
   ]
  },
  {
   "cell_type": "code",
   "execution_count": 82,
   "metadata": {},
   "outputs": [
    {
     "data": {
      "text/plain": [
       "count   6216723.00\n",
       "mean          6.44\n",
       "std           7.69\n",
       "min           0.00\n",
       "25%           2.00\n",
       "50%           4.00\n",
       "75%           8.00\n",
       "max         186.00\n",
       "Name: Age, dtype: float64"
      ]
     },
     "execution_count": 82,
     "metadata": {},
     "output_type": "execute_result"
    }
   ],
   "source": [
    "df['Age'].describe()"
   ]
  },
  {
   "cell_type": "code",
   "execution_count": 83,
   "metadata": {},
   "outputs": [
    {
     "data": {
      "image/png": "[encoded data removed]",
      "text/plain": [
       "<Figure size 864x432 with 1 Axes>"
      ]
     },
     "metadata": {},
     "output_type": "display_data"
    }
   ],
   "source": [
    "plt.figure(figsize=(12,6))\n",
    "plt.title('Checkouts vs Age')\n",
    "plt.xlabel('Checkout Count')\n",
    "plt.ylabel('Age')\n",
    "plt.ylim([0,200])\n",
    "plt.xlim([0,4500])\n",
    "plt.plot(df_num['Count'],df_num['Age'],'o',alpha=0.3)\n",
    "# plt.savefig('../../docs/images/agevscheckouts.png')"
   ]
  },
  {
   "cell_type": "markdown",
   "metadata": {},
   "source": [
    "### What does the age of items look like by format type?\n",
    "We see that most checkouts are released within the same year for Books, DVDs and audiobooks. Audiodiscs are slightly older on average and music scores are in a category all on their own. The number of outliers for books is interesting and intuitive since print books have been around for so long.\n",
    "\n",
    "A question the library must ask is how much new material should it buy since old material has to be removed to accomodate the new items. This could help guide the process as it indicates users strongly prefer checking out new items across all formats."
   ]
  },
  {
   "cell_type": "code",
   "execution_count": 60,
   "metadata": {},
   "outputs": [
    {
     "data": {
      "text/plain": [
       "<matplotlib.axes._subplots.AxesSubplot at 0x1a4bdcdbe0>"
      ]
     },
     "execution_count": 60,
     "metadata": {},
     "output_type": "execute_result"
    },
    {
     "data": {
      "image/png": "[encoded data removed]",
      "text/plain": [
       "<Figure size 432x288 with 1 Axes>"
      ]
     },
     "metadata": {},
     "output_type": "display_data"
    }
   ],
   "source": [
    "plt.figure(figsize=(12,6))\n",
    "plt.title('Age distribution by Format')\n",
    "# plt.xticks(rotation=90)\n",
    "sns.boxplot(x='Format Group',y='Age', data=df)"
   ]
  },
  {
   "cell_type": "code",
   "execution_count": 61,
   "metadata": {},
   "outputs": [
    {
     "data": {
      "text/plain": [
       "<matplotlib.axes._subplots.AxesSubplot at 0x1a34f4e5f8>"
      ]
     },
     "execution_count": 61,
     "metadata": {},
     "output_type": "execute_result"
    },
    {
     "data": {
      "image/png": "[encoded data removed]",
      "text/plain": [
       "<Figure size 864x432 with 1 Axes>"
      ]
     },
     "metadata": {},
     "output_type": "display_data"
    }
   ],
   "source": [
    "plt.figure(figsize=(12,6))\n",
    "plt.title('Age distribution by Format')\n",
    "# plt.xticks(rotation=90)\n",
    "sns.boxplot(x='Format Subgroup',y='Age', data=df)"
   ]
  }
 ],
 "metadata": {
  "kernelspec": {
   "display_name": "Python 3",
   "language": "python",
   "name": "python3"
  },
  "language_info": {
   "codemirror_mode": {
    "name": "ipython",
    "version": 3
   },
   "file_extension": ".py",
   "mimetype": "text/x-python",
   "name": "python",
   "nbconvert_exporter": "python",
   "pygments_lexer": "ipython3",
   "version": "3.6.5"
  }
 },
 "nbformat": 4,
 "nbformat_minor": 2
}
