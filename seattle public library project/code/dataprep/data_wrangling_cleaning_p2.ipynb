{
 "cells": [
  {
   "cell_type": "markdown",
   "metadata": {},
   "source": [
    "# Data Wrangling, Cleaning for Seattle Public Library Checkouts\n",
    "### continued from part 1: Library Collection\n",
    "Dataset: The library checkouts for the entire Seattle Public Library system in 2016\n",
    "\n",
    "Source: https://www.kaggle.com/seattle-public-library/seattle-library-checkout-records"
   ]
  },
  {
   "cell_type": "code",
   "execution_count": 1,
   "metadata": {},
   "outputs": [],
   "source": [
    "import numpy as np\n",
    "import pandas as pd\n",
    "\n",
    "# style parameters\n",
    "pd.set_option('display.float_format', lambda x: '%.2f' % x)"
   ]
  },
  {
   "cell_type": "markdown",
   "metadata": {},
   "source": [
    "### Load Data\n",
    "Load the cleaned library collection file from part 1, the checkout records and a dewey decimal system code dictionary"
   ]
  },
  {
   "cell_type": "code",
   "execution_count": 2,
   "metadata": {},
   "outputs": [],
   "source": [
    "df = pd.read_csv('../../data/raw/Checkouts_By_Title_Data_Lens_2016.csv')\n",
    "df_inv = pd.read_csv('../../data/processed/collection.csv')\n",
    "df_dewey = pd.read_csv('../../data/raw/dewey.csv')"
   ]
  },
  {
   "cell_type": "code",
   "execution_count": 3,
   "metadata": {},
   "outputs": [
    {
     "data": {
      "text/html": [
       "<div>\n",
       "<style scoped>\n",
       "    .dataframe tbody tr th:only-of-type {\n",
       "        vertical-align: middle;\n",
       "    }\n",
       "\n",
       "    .dataframe tbody tr th {\n",
       "        vertical-align: top;\n",
       "    }\n",
       "\n",
       "    .dataframe thead th {\n",
       "        text-align: right;\n",
       "    }\n",
       "</style>\n",
       "<table border=\"1\" class=\"dataframe\">\n",
       "  <thead>\n",
       "    <tr style=\"text-align: right;\">\n",
       "      <th></th>\n",
       "      <th>BibNumber</th>\n",
       "      <th>ItemBarcode</th>\n",
       "      <th>ItemType</th>\n",
       "      <th>Collection</th>\n",
       "      <th>CallNumber</th>\n",
       "      <th>CheckoutDateTime</th>\n",
       "    </tr>\n",
       "  </thead>\n",
       "  <tbody>\n",
       "    <tr>\n",
       "      <th>0</th>\n",
       "      <td>3178331</td>\n",
       "      <td>10087139340</td>\n",
       "      <td>acdvd</td>\n",
       "      <td>nadvd</td>\n",
       "      <td>DVD WALLAND Season 4</td>\n",
       "      <td>07/30/2016 11:24:00 AM</td>\n",
       "    </tr>\n",
       "    <tr>\n",
       "      <th>1</th>\n",
       "      <td>2619159</td>\n",
       "      <td>10070409924</td>\n",
       "      <td>acbk</td>\n",
       "      <td>nycomic</td>\n",
       "      <td>YA 741.5973 B3903H02 2009</td>\n",
       "      <td>12/23/2016 01:04:00 PM</td>\n",
       "    </tr>\n",
       "    <tr>\n",
       "      <th>2</th>\n",
       "      <td>2406194</td>\n",
       "      <td>10086221842</td>\n",
       "      <td>acdvd</td>\n",
       "      <td>nadvd</td>\n",
       "      <td>DVD LAST KI</td>\n",
       "      <td>01/26/2016 01:53:00 PM</td>\n",
       "    </tr>\n",
       "    <tr>\n",
       "      <th>3</th>\n",
       "      <td>2655929</td>\n",
       "      <td>10074162446</td>\n",
       "      <td>acbk</td>\n",
       "      <td>canf</td>\n",
       "      <td>428.2 W863G 2010</td>\n",
       "      <td>06/03/2016 04:56:00 PM</td>\n",
       "    </tr>\n",
       "    <tr>\n",
       "      <th>4</th>\n",
       "      <td>3154003</td>\n",
       "      <td>10088095665</td>\n",
       "      <td>acdvd</td>\n",
       "      <td>nadvd</td>\n",
       "      <td>DVD STEVE J</td>\n",
       "      <td>11/19/2016 04:32:00 PM</td>\n",
       "    </tr>\n",
       "  </tbody>\n",
       "</table>\n",
       "</div>"
      ],
      "text/plain": [
       "   BibNumber  ItemBarcode ItemType Collection                 CallNumber  \\\n",
       "0    3178331  10087139340    acdvd      nadvd       DVD WALLAND Season 4   \n",
       "1    2619159  10070409924     acbk    nycomic  YA 741.5973 B3903H02 2009   \n",
       "2    2406194  10086221842    acdvd      nadvd                DVD LAST KI   \n",
       "3    2655929  10074162446     acbk       canf           428.2 W863G 2010   \n",
       "4    3154003  10088095665    acdvd      nadvd                DVD STEVE J   \n",
       "\n",
       "         CheckoutDateTime  \n",
       "0  07/30/2016 11:24:00 AM  \n",
       "1  12/23/2016 01:04:00 PM  \n",
       "2  01/26/2016 01:53:00 PM  \n",
       "3  06/03/2016 04:56:00 PM  \n",
       "4  11/19/2016 04:32:00 PM  "
      ]
     },
     "execution_count": 3,
     "metadata": {},
     "output_type": "execute_result"
    }
   ],
   "source": [
    "print(df.head())"
   ]
  },
  {
   "cell_type": "code",
   "execution_count": 4,
   "metadata": {},
   "outputs": [
    {
     "name": "stdout",
     "output_type": "stream",
     "text": [
      "<class 'pandas.core.frame.DataFrame'>\n",
      "RangeIndex: 6404830 entries, 0 to 6404829\n",
      "Data columns (total 6 columns):\n",
      "BibNumber           int64\n",
      "ItemBarcode         int64\n",
      "ItemType            object\n",
      "Collection          object\n",
      "CallNumber          object\n",
      "CheckoutDateTime    object\n",
      "dtypes: int64(2), object(4)\n",
      "memory usage: 293.2+ MB\n",
      "None\n"
     ]
    }
   ],
   "source": [
    "print(df.info())"
   ]
  },
  {
   "cell_type": "markdown",
   "metadata": {},
   "source": [
    "### There are 6,404,830 checkouts in 2016 across the whole library system"
   ]
  },
  {
   "cell_type": "code",
   "execution_count": 5,
   "metadata": {},
   "outputs": [
    {
     "data": {
      "text/plain": [
       "BibNumber             0\n",
       "ItemBarcode           0\n",
       "ItemType              0\n",
       "Collection            0\n",
       "CallNumber          349\n",
       "CheckoutDateTime      0\n",
       "dtype: int64"
      ]
     },
     "execution_count": 5,
     "metadata": {},
     "output_type": "execute_result"
    }
   ],
   "source": [
    "df.isnull().sum()"
   ]
  },
  {
   "cell_type": "markdown",
   "metadata": {},
   "source": [
    "### Removing Nulls"
   ]
  },
  {
   "cell_type": "markdown",
   "metadata": {},
   "source": [
    "The checkout set is mostly clean except for 349 missing Call Numbers. Looking closely, the item borrowed the second most times with a missing call number is a modem for loan and the top one doesn't exist in the catalogue anymore so it will not appear in the final dataset anyway. We can go ahead and drop all the missing entries since it won't move the needle."
   ]
  },
  {
   "cell_type": "code",
   "execution_count": 8,
   "metadata": {},
   "outputs": [
    {
     "data": {
      "text/plain": [
       "774693     255\n",
       "3137313     58\n",
       "2795292      9\n",
       "2001737      8\n",
       "3137570      6\n",
       "2069856      4\n",
       "406307       4\n",
       "2444123      3\n",
       "3202718      1\n",
       "2852359      1\n",
       "Name: BibNumber, dtype: int64"
      ]
     },
     "execution_count": 8,
     "metadata": {},
     "output_type": "execute_result"
    }
   ],
   "source": [
    "df[df['CallNumber'].isnull()==True]['BibNumber'].value_counts()"
   ]
  },
  {
   "cell_type": "code",
   "execution_count": 19,
   "metadata": {},
   "outputs": [
    {
     "data": {
      "text/html": [
       "<div>\n",
       "<style scoped>\n",
       "    .dataframe tbody tr th:only-of-type {\n",
       "        vertical-align: middle;\n",
       "    }\n",
       "\n",
       "    .dataframe tbody tr th {\n",
       "        vertical-align: top;\n",
       "    }\n",
       "\n",
       "    .dataframe thead th {\n",
       "        text-align: right;\n",
       "    }\n",
       "</style>\n",
       "<table border=\"1\" class=\"dataframe\">\n",
       "  <thead>\n",
       "    <tr style=\"text-align: right;\">\n",
       "      <th></th>\n",
       "      <th>BibNum</th>\n",
       "      <th>Title</th>\n",
       "      <th>Author</th>\n",
       "      <th>Publisher</th>\n",
       "      <th>ItemLocation</th>\n",
       "      <th>ItemCount</th>\n",
       "      <th>Age</th>\n",
       "      <th>Description</th>\n",
       "      <th>Format Group</th>\n",
       "      <th>Format Subgroup</th>\n",
       "      <th>Category Group</th>\n",
       "      <th>Child</th>\n",
       "      <th>Teen</th>\n",
       "    </tr>\n",
       "  </thead>\n",
       "  <tbody>\n",
       "    <tr>\n",
       "      <th>617577</th>\n",
       "      <td>3137313</td>\n",
       "      <td>Connecting for Digital Literacy : modem / Veri...</td>\n",
       "      <td>NaN</td>\n",
       "      <td>Verizon Wireless,</td>\n",
       "      <td>drp1</td>\n",
       "      <td>20</td>\n",
       "      <td>2</td>\n",
       "      <td>NA-Nonfiction</td>\n",
       "      <td>Print</td>\n",
       "      <td>Book</td>\n",
       "      <td>Nonfiction</td>\n",
       "      <td>0</td>\n",
       "      <td>0</td>\n",
       "    </tr>\n",
       "  </tbody>\n",
       "</table>\n",
       "</div>"
      ],
      "text/plain": [
       "         BibNum                                              Title Author  \\\n",
       "617577  3137313  Connecting for Digital Literacy : modem / Veri...    NaN   \n",
       "\n",
       "                Publisher ItemLocation  ItemCount  Age    Description  \\\n",
       "617577  Verizon Wireless,         drp1         20    2  NA-Nonfiction   \n",
       "\n",
       "       Format Group Format Subgroup Category Group  Child  Teen  \n",
       "617577        Print            Book     Nonfiction      0     0  "
      ]
     },
     "execution_count": 19,
     "metadata": {},
     "output_type": "execute_result"
    }
   ],
   "source": [
    "df_inv[df_inv['BibNum'].isin([3137313,774693])]"
   ]
  },
  {
   "cell_type": "code",
   "execution_count": 20,
   "metadata": {},
   "outputs": [],
   "source": [
    "df.dropna(inplace=True)\n",
    "print('CallNumber nulls: ',df['CallNumber'].isnull().sum())"
   ]
  },
  {
   "cell_type": "markdown",
   "metadata": {},
   "source": [
    "### Remove columns\n",
    "We can get rid of the ItemBarcode, ItemType, and Collection columns because the inventory dataframe we will join contains the information"
   ]
  },
  {
   "cell_type": "code",
   "execution_count": 24,
   "metadata": {},
   "outputs": [
    {
     "data": {
      "text/html": [
       "<div>\n",
       "<style scoped>\n",
       "    .dataframe tbody tr th:only-of-type {\n",
       "        vertical-align: middle;\n",
       "    }\n",
       "\n",
       "    .dataframe tbody tr th {\n",
       "        vertical-align: top;\n",
       "    }\n",
       "\n",
       "    .dataframe thead th {\n",
       "        text-align: right;\n",
       "    }\n",
       "</style>\n",
       "<table border=\"1\" class=\"dataframe\">\n",
       "  <thead>\n",
       "    <tr style=\"text-align: right;\">\n",
       "      <th></th>\n",
       "      <th>BibNumber</th>\n",
       "      <th>CallNumber</th>\n",
       "      <th>CheckoutDateTime</th>\n",
       "    </tr>\n",
       "  </thead>\n",
       "  <tbody>\n",
       "    <tr>\n",
       "      <th>0</th>\n",
       "      <td>3178331</td>\n",
       "      <td>DVD WALLAND Season 4</td>\n",
       "      <td>07/30/2016 11:24:00 AM</td>\n",
       "    </tr>\n",
       "  </tbody>\n",
       "</table>\n",
       "</div>"
      ],
      "text/plain": [
       "   BibNumber            CallNumber        CheckoutDateTime\n",
       "0    3178331  DVD WALLAND Season 4  07/30/2016 11:24:00 AM"
      ]
     },
     "execution_count": 24,
     "metadata": {},
     "output_type": "execute_result"
    }
   ],
   "source": [
    "df.drop(['ItemBarcode','ItemType','Collection'],axis=1,inplace=True)\n",
    "df.head(1)"
   ]
  },
  {
   "cell_type": "markdown",
   "metadata": {},
   "source": [
    "### Change CheckoutDateTime to Datetime datatype"
   ]
  },
  {
   "cell_type": "code",
   "execution_count": 28,
   "metadata": {},
   "outputs": [],
   "source": [
    "df['CheckoutDateTime'] = pd.to_datetime(df['CheckoutDateTime'], format= '%m/%d/%Y %I:%M:%S %p')"
   ]
  },
  {
   "cell_type": "markdown",
   "metadata": {},
   "source": [
    "### Create month and day columns from CheckoutDateTime"
   ]
  },
  {
   "cell_type": "code",
   "execution_count": 29,
   "metadata": {},
   "outputs": [
    {
     "name": "stdout",
     "output_type": "stream",
     "text": [
      "Index(['BibNumber', 'CallNumber', 'CheckoutDateTime', 'CheckoutMonth',\n",
      "       'CheckoutDay'],\n",
      "      dtype='object')\n"
     ]
    }
   ],
   "source": [
    "df['CheckoutMonth'] = df['CheckoutDateTime'].dt.month\n",
    "df['CheckoutDay'] = df['CheckoutDateTime'].dt.dayofweek\n",
    "# df['CheckoutYear'] = df['CheckoutDateTime'].dt.year\n",
    "print(df.columns)"
   ]
  },
  {
   "cell_type": "markdown",
   "metadata": {},
   "source": [
    "### Create column for nonfiction dewey decimal category\n",
    "The eventual deweySubject column will help with analyzing nonfiction titles."
   ]
  },
  {
   "cell_type": "code",
   "execution_count": 31,
   "metadata": {},
   "outputs": [],
   "source": [
    "# find 3 digit category from call number\n",
    "df['dewey'] = df['CallNumber'].str.extract(r'(\\d{3}\\.)')\n",
    "# remove period from number\n",
    "df['dewey'] = df['dewey'].str.replace('.','')"
   ]
  },
  {
   "cell_type": "code",
   "execution_count": 33,
   "metadata": {},
   "outputs": [
    {
     "data": {
      "text/html": [
       "<div>\n",
       "<style scoped>\n",
       "    .dataframe tbody tr th:only-of-type {\n",
       "        vertical-align: middle;\n",
       "    }\n",
       "\n",
       "    .dataframe tbody tr th {\n",
       "        vertical-align: top;\n",
       "    }\n",
       "\n",
       "    .dataframe thead th {\n",
       "        text-align: right;\n",
       "    }\n",
       "</style>\n",
       "<table border=\"1\" class=\"dataframe\">\n",
       "  <thead>\n",
       "    <tr style=\"text-align: right;\">\n",
       "      <th></th>\n",
       "      <th>BibNumber</th>\n",
       "      <th>CallNumber</th>\n",
       "      <th>CheckoutDateTime</th>\n",
       "      <th>CheckoutMonth</th>\n",
       "      <th>CheckoutDay</th>\n",
       "      <th>dewey</th>\n",
       "    </tr>\n",
       "  </thead>\n",
       "  <tbody>\n",
       "    <tr>\n",
       "      <th>0</th>\n",
       "      <td>3178331</td>\n",
       "      <td>DVD WALLAND Season 4</td>\n",
       "      <td>2016-07-30 11:24:00</td>\n",
       "      <td>7</td>\n",
       "      <td>5</td>\n",
       "      <td>NaN</td>\n",
       "    </tr>\n",
       "  </tbody>\n",
       "</table>\n",
       "</div>"
      ],
      "text/plain": [
       "   BibNumber            CallNumber    CheckoutDateTime  CheckoutMonth  \\\n",
       "0    3178331  DVD WALLAND Season 4 2016-07-30 11:24:00              7   \n",
       "\n",
       "   CheckoutDay dewey  \n",
       "0            5   NaN  "
      ]
     },
     "execution_count": 33,
     "metadata": {},
     "output_type": "execute_result"
    }
   ],
   "source": [
    "df.head(1)"
   ]
  },
  {
   "cell_type": "markdown",
   "metadata": {},
   "source": [
    "#### Change dewey column datatype\n",
    "We change the dtype of dewey to int so that it can match in the join including numbers that look like 001. Changing dtype to integer yields an error so to work around we change all the null dewey numbers to -1 and try again. The dewey column will be dropped anyway after the subject has been obtained."
   ]
  },
  {
   "cell_type": "code",
   "execution_count": 35,
   "metadata": {},
   "outputs": [],
   "source": [
    "df['dewey'] = df['dewey'].fillna(-1)\n",
    "df['dewey'] = df['dewey'].astype(int)"
   ]
  },
  {
   "cell_type": "markdown",
   "metadata": {},
   "source": [
    "### Merge dewey dataset\n",
    "We do a left join to get the nonfiction subjects"
   ]
  },
  {
   "cell_type": "code",
   "execution_count": 37,
   "metadata": {},
   "outputs": [],
   "source": [
    "df = pd.merge(df, df_dewey, on='dewey', how='left')"
   ]
  },
  {
   "cell_type": "markdown",
   "metadata": {},
   "source": [
    "#### Now that we have extracted the nonfiction subjects we can drop CallNumber and dewey"
   ]
  },
  {
   "cell_type": "code",
   "execution_count": 38,
   "metadata": {},
   "outputs": [],
   "source": [
    "df.drop(['CallNumber', 'dewey'], axis=1, inplace=True)"
   ]
  },
  {
   "cell_type": "code",
   "execution_count": 40,
   "metadata": {},
   "outputs": [
    {
     "data": {
      "text/html": [
       "<div>\n",
       "<style scoped>\n",
       "    .dataframe tbody tr th:only-of-type {\n",
       "        vertical-align: middle;\n",
       "    }\n",
       "\n",
       "    .dataframe tbody tr th {\n",
       "        vertical-align: top;\n",
       "    }\n",
       "\n",
       "    .dataframe thead th {\n",
       "        text-align: right;\n",
       "    }\n",
       "</style>\n",
       "<table border=\"1\" class=\"dataframe\">\n",
       "  <thead>\n",
       "    <tr style=\"text-align: right;\">\n",
       "      <th></th>\n",
       "      <th>BibNumber</th>\n",
       "      <th>CheckoutDateTime</th>\n",
       "      <th>CheckoutMonth</th>\n",
       "      <th>CheckoutDay</th>\n",
       "      <th>deweySubject</th>\n",
       "    </tr>\n",
       "  </thead>\n",
       "  <tbody>\n",
       "    <tr>\n",
       "      <th>0</th>\n",
       "      <td>3178331</td>\n",
       "      <td>2016-07-30 11:24:00</td>\n",
       "      <td>7</td>\n",
       "      <td>5</td>\n",
       "      <td>NaN</td>\n",
       "    </tr>\n",
       "    <tr>\n",
       "      <th>1</th>\n",
       "      <td>2619159</td>\n",
       "      <td>2016-12-23 13:04:00</td>\n",
       "      <td>12</td>\n",
       "      <td>4</td>\n",
       "      <td>Arts &amp; Recreation</td>\n",
       "    </tr>\n",
       "    <tr>\n",
       "      <th>2</th>\n",
       "      <td>2406194</td>\n",
       "      <td>2016-01-26 13:53:00</td>\n",
       "      <td>1</td>\n",
       "      <td>1</td>\n",
       "      <td>NaN</td>\n",
       "    </tr>\n",
       "    <tr>\n",
       "      <th>3</th>\n",
       "      <td>2655929</td>\n",
       "      <td>2016-06-03 16:56:00</td>\n",
       "      <td>6</td>\n",
       "      <td>4</td>\n",
       "      <td>Language</td>\n",
       "    </tr>\n",
       "  </tbody>\n",
       "</table>\n",
       "</div>"
      ],
      "text/plain": [
       "   BibNumber    CheckoutDateTime  CheckoutMonth  CheckoutDay  \\\n",
       "0    3178331 2016-07-30 11:24:00              7            5   \n",
       "1    2619159 2016-12-23 13:04:00             12            4   \n",
       "2    2406194 2016-01-26 13:53:00              1            1   \n",
       "3    2655929 2016-06-03 16:56:00              6            4   \n",
       "\n",
       "        deweySubject  \n",
       "0                NaN  \n",
       "1  Arts & Recreation  \n",
       "2                NaN  \n",
       "3           Language  "
      ]
     },
     "execution_count": 40,
     "metadata": {},
     "output_type": "execute_result"
    }
   ],
   "source": [
    "df.head(4)"
   ]
  },
  {
   "cell_type": "markdown",
   "metadata": {},
   "source": [
    "### Rename the column\n",
    "BibNumber to BibNum so we can join on it easily"
   ]
  },
  {
   "cell_type": "code",
   "execution_count": 56,
   "metadata": {},
   "outputs": [],
   "source": [
    "df.rename(columns={'BibNumber':'BibNum'}, inplace=True)"
   ]
  },
  {
   "cell_type": "code",
   "execution_count": 46,
   "metadata": {},
   "outputs": [],
   "source": [
    "# df.to_csv('../../data/processed/checkouts.csv', index=False)"
   ]
  },
  {
   "cell_type": "markdown",
   "metadata": {},
   "source": [
    "### Remove duplicates from Collection dataset\n",
    "To do a proper join with the checkout records, the duplicate BibNums from all the different branches will have to be removed so that there is only one BibNum per item. Unfortunately, because the checkouts don't have a location column, there is no way to tell where the item was borrowed. Books have copies across many locations but they all have the same BibNum so there is no way to match to locations with BibNum alone."
   ]
  },
  {
   "cell_type": "code",
   "execution_count": 48,
   "metadata": {},
   "outputs": [],
   "source": [
    "df_inv.drop_duplicates(subset='BibNum',inplace=True)"
   ]
  },
  {
   "cell_type": "code",
   "execution_count": 54,
   "metadata": {},
   "outputs": [
    {
     "name": "stdout",
     "output_type": "stream",
     "text": [
      "Unique BibNum rows,cols (580934, 13)\n"
     ]
    }
   ],
   "source": [
    "print('Unique BibNum rows,cols',df_inv.shape)"
   ]
  },
  {
   "cell_type": "markdown",
   "metadata": {},
   "source": [
    "#### Drop unecessary columns before join"
   ]
  },
  {
   "cell_type": "code",
   "execution_count": 59,
   "metadata": {},
   "outputs": [],
   "source": [
    "df_inv.drop(['ItemLocation', 'ItemCount'], axis=1, inplace=True)"
   ]
  },
  {
   "cell_type": "markdown",
   "metadata": {},
   "source": [
    "### Merge collection and checkout datasets"
   ]
  },
  {
   "cell_type": "code",
   "execution_count": 63,
   "metadata": {},
   "outputs": [],
   "source": [
    "df = pd.merge(df, df_inv, on='BibNum', how='left')"
   ]
  },
  {
   "cell_type": "code",
   "execution_count": 64,
   "metadata": {},
   "outputs": [
    {
     "data": {
      "text/plain": [
       "BibNum                    0\n",
       "CheckoutDateTime          0\n",
       "CheckoutMonth             0\n",
       "CheckoutDay               0\n",
       "deweySubject        4081881\n",
       "Title                188108\n",
       "Author              2231196\n",
       "Publisher            190149\n",
       "Age                  187758\n",
       "Description          187758\n",
       "Format Group         187758\n",
       "Format Subgroup      187758\n",
       "Category Group      1311689\n",
       "Child                187758\n",
       "Teen                 187758\n",
       "dtype: int64"
      ]
     },
     "execution_count": 64,
     "metadata": {},
     "output_type": "execute_result"
    }
   ],
   "source": [
    "df.isnull().sum()"
   ]
  },
  {
   "cell_type": "code",
   "execution_count": 71,
   "metadata": {},
   "outputs": [
    {
     "name": "stdout",
     "output_type": "stream",
     "text": [
      "29343\n"
     ]
    }
   ],
   "source": [
    "print(len(df[df['Title'].isnull()==True]['BibNum'].value_counts().sort_values(ascending=False)))"
   ]
  },
  {
   "cell_type": "markdown",
   "metadata": {},
   "source": [
    "### Unable to match\n",
    "It is quite a surprise to find that 187,758 checkout events for 29,343 items for 2016 did not find a match in the late 2017 collection. This means the library turns over quite a bit each year in order to accomodate new materials. It would certainly be preferable to find two datasets from the same timeframe to reduce this discrepancy although it is useful to see quite plainly how much change occurs within the collection.\n",
    "\n",
    "The EDA will not be too affected by this issue. The timeseries aspect of the checkouts remains clean. There will be no choice but to ignore and drop the new nulls created after the general count analysis has been done. We can only work with the information we have and without any information about the items that didn't match they are not useful for further analysis. For the purposes of this project, when a model is chosen, it will have to be specific enough to avoid all the nulls. It is clear that the results of an inner join might be better when the time comes to implement a model."
   ]
  },
  {
   "cell_type": "code",
   "execution_count": 72,
   "metadata": {},
   "outputs": [
    {
     "name": "stdout",
     "output_type": "stream",
     "text": [
      "<class 'pandas.core.frame.DataFrame'>\n",
      "Int64Index: 6404481 entries, 0 to 6404480\n",
      "Data columns (total 15 columns):\n",
      "BibNum              int64\n",
      "CheckoutDateTime    datetime64[ns]\n",
      "CheckoutMonth       int64\n",
      "CheckoutDay         int64\n",
      "deweySubject        object\n",
      "Title               object\n",
      "Author              object\n",
      "Publisher           object\n",
      "Age                 float64\n",
      "Description         object\n",
      "Format Group        object\n",
      "Format Subgroup     object\n",
      "Category Group      object\n",
      "Child               float64\n",
      "Teen                float64\n",
      "dtypes: datetime64[ns](1), float64(3), int64(3), object(8)\n",
      "memory usage: 781.8+ MB\n"
     ]
    }
   ],
   "source": [
    "df.info()"
   ]
  },
  {
   "cell_type": "markdown",
   "metadata": {},
   "source": [
    "### Save merged file\n",
    "This file will be used for EDA in the next notebook"
   ]
  },
  {
   "cell_type": "code",
   "execution_count": 73,
   "metadata": {},
   "outputs": [],
   "source": [
    "# df.to_csv('../../data/processed/mergedlibrary.csv', index=False)"
   ]
  }
 ],
 "metadata": {
  "kernelspec": {
   "display_name": "Python 3",
   "language": "python",
   "name": "python3"
  },
  "language_info": {
   "codemirror_mode": {
    "name": "ipython",
    "version": 3
   },
   "file_extension": ".py",
   "mimetype": "text/x-python",
   "name": "python",
   "nbconvert_exporter": "python",
   "pygments_lexer": "ipython3",
   "version": "3.6.5"
  }
 },
 "nbformat": 4,
 "nbformat_minor": 2
}
