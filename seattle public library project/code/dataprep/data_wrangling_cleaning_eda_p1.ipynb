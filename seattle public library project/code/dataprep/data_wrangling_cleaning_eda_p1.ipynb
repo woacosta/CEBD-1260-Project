{
 "cells": [
  {
   "cell_type": "markdown",
   "metadata": {},
   "source": [
    "# Data Wrangling, Cleaning and EDA for Seattle Public Library Collection\n",
    "\n",
    "Dataset: The library collection catalogue for the entire Seattle Public Library system as of September 2017\n",
    "\n",
    "Source: https://www.kaggle.com/seattle-public-library/seattle-library-checkout-records"
   ]
  },
  {
   "cell_type": "code",
   "execution_count": 1,
   "metadata": {},
   "outputs": [],
   "source": [
    "import numpy as np\n",
    "import pandas as pd\n",
    "import matplotlib.pyplot as plt\n",
    "import seaborn as sns\n",
    "%matplotlib inline\n",
    "\n",
    "# style parameters\n",
    "sns.set_style('whitegrid')\n",
    "pd.set_option('display.float_format', lambda x: '%.2f' % x)"
   ]
  },
  {
   "cell_type": "markdown",
   "metadata": {},
   "source": [
    "### Load Data"
   ]
  },
  {
   "cell_type": "code",
   "execution_count": 2,
   "metadata": {},
   "outputs": [],
   "source": [
    "# Load collection and Data dictionary\n",
    "df = pd.read_csv('../../data/raw/Library_Collection_Inventory.csv')\n",
    "df_dic = pd.read_csv('../../data/raw/Integrated_Library_System__ILS__Data_Dictionary.csv')"
   ]
  },
  {
   "cell_type": "markdown",
   "metadata": {},
   "source": [
    "### Take a peak at the data"
   ]
  },
  {
   "cell_type": "code",
   "execution_count": 12,
   "metadata": {
    "scrolled": false
   },
   "outputs": [
    {
     "data": {
      "text/html": [
       "<div>\n",
       "<style scoped>\n",
       "    .dataframe tbody tr th:only-of-type {\n",
       "        vertical-align: middle;\n",
       "    }\n",
       "\n",
       "    .dataframe tbody tr th {\n",
       "        vertical-align: top;\n",
       "    }\n",
       "\n",
       "    .dataframe thead th {\n",
       "        text-align: right;\n",
       "    }\n",
       "</style>\n",
       "<table border=\"1\" class=\"dataframe\">\n",
       "  <thead>\n",
       "    <tr style=\"text-align: right;\">\n",
       "      <th></th>\n",
       "      <th>BibNum</th>\n",
       "      <th>Title</th>\n",
       "      <th>Author</th>\n",
       "      <th>ISBN</th>\n",
       "      <th>PublicationYear</th>\n",
       "      <th>Publisher</th>\n",
       "      <th>Subjects</th>\n",
       "      <th>ItemType</th>\n",
       "      <th>ItemCollection</th>\n",
       "      <th>FloatingItem</th>\n",
       "      <th>ItemLocation</th>\n",
       "      <th>ReportDate</th>\n",
       "      <th>ItemCount</th>\n",
       "    </tr>\n",
       "  </thead>\n",
       "  <tbody>\n",
       "    <tr>\n",
       "      <th>0</th>\n",
       "      <td>3011076</td>\n",
       "      <td>A tale of two friends / adapted by Ellie O'Rya...</td>\n",
       "      <td>O'Ryan, Ellie</td>\n",
       "      <td>1481425730, 1481425749, 9781481425735, 9781481...</td>\n",
       "      <td>2014.</td>\n",
       "      <td>Simon Spotlight,</td>\n",
       "      <td>Musicians Fiction, Bullfighters Fiction, Best ...</td>\n",
       "      <td>jcbk</td>\n",
       "      <td>ncrdr</td>\n",
       "      <td>Floating</td>\n",
       "      <td>qna</td>\n",
       "      <td>09/01/2017</td>\n",
       "      <td>1</td>\n",
       "    </tr>\n",
       "    <tr>\n",
       "      <th>1</th>\n",
       "      <td>2248846</td>\n",
       "      <td>Naruto. Vol. 1, Uzumaki Naruto / story and art...</td>\n",
       "      <td>Kishimoto, Masashi, 1974-</td>\n",
       "      <td>1569319006</td>\n",
       "      <td>2003, c1999.</td>\n",
       "      <td>Viz,</td>\n",
       "      <td>Ninja Japan Comic books strips etc, Comic book...</td>\n",
       "      <td>acbk</td>\n",
       "      <td>nycomic</td>\n",
       "      <td>NaN</td>\n",
       "      <td>lcy</td>\n",
       "      <td>09/01/2017</td>\n",
       "      <td>1</td>\n",
       "    </tr>\n",
       "    <tr>\n",
       "      <th>2</th>\n",
       "      <td>3209270</td>\n",
       "      <td>Peace, love &amp; Wi-Fi : a ZITS treasury / by Jer...</td>\n",
       "      <td>Scott, Jerry, 1955-</td>\n",
       "      <td>144945867X, 9781449458676</td>\n",
       "      <td>2014.</td>\n",
       "      <td>Andrews McMeel Publishing,</td>\n",
       "      <td>Duncan Jeremy Fictitious character Comic books...</td>\n",
       "      <td>acbk</td>\n",
       "      <td>nycomic</td>\n",
       "      <td>NaN</td>\n",
       "      <td>bea</td>\n",
       "      <td>09/01/2017</td>\n",
       "      <td>1</td>\n",
       "    </tr>\n",
       "  </tbody>\n",
       "</table>\n",
       "</div>"
      ],
      "text/plain": [
       "    BibNum                                              Title  \\\n",
       "0  3011076  A tale of two friends / adapted by Ellie O'Rya...   \n",
       "1  2248846  Naruto. Vol. 1, Uzumaki Naruto / story and art...   \n",
       "2  3209270  Peace, love & Wi-Fi : a ZITS treasury / by Jer...   \n",
       "\n",
       "                      Author  \\\n",
       "0              O'Ryan, Ellie   \n",
       "1  Kishimoto, Masashi, 1974-   \n",
       "2        Scott, Jerry, 1955-   \n",
       "\n",
       "                                                ISBN PublicationYear  \\\n",
       "0  1481425730, 1481425749, 9781481425735, 9781481...           2014.   \n",
       "1                                         1569319006    2003, c1999.   \n",
       "2                          144945867X, 9781449458676           2014.   \n",
       "\n",
       "                    Publisher  \\\n",
       "0            Simon Spotlight,   \n",
       "1                        Viz,   \n",
       "2  Andrews McMeel Publishing,   \n",
       "\n",
       "                                            Subjects ItemType ItemCollection  \\\n",
       "0  Musicians Fiction, Bullfighters Fiction, Best ...     jcbk          ncrdr   \n",
       "1  Ninja Japan Comic books strips etc, Comic book...     acbk        nycomic   \n",
       "2  Duncan Jeremy Fictitious character Comic books...     acbk        nycomic   \n",
       "\n",
       "  FloatingItem ItemLocation  ReportDate  ItemCount  \n",
       "0     Floating          qna  09/01/2017          1  \n",
       "1          NaN          lcy  09/01/2017          1  \n",
       "2          NaN          bea  09/01/2017          1  "
      ]
     },
     "execution_count": 12,
     "metadata": {},
     "output_type": "execute_result"
    }
   ],
   "source": [
    "df.head(3)\n",
    "# print(df.head(3))"
   ]
  },
  {
   "cell_type": "code",
   "execution_count": 13,
   "metadata": {},
   "outputs": [
    {
     "name": "stdout",
     "output_type": "stream",
     "text": [
      "<class 'pandas.core.frame.DataFrame'>\n",
      "RangeIndex: 2687149 entries, 0 to 2687148\n",
      "Data columns (total 13 columns):\n",
      "BibNum             int64\n",
      "Title              object\n",
      "Author             object\n",
      "ISBN               object\n",
      "PublicationYear    object\n",
      "Publisher          object\n",
      "Subjects           object\n",
      "ItemType           object\n",
      "ItemCollection     object\n",
      "FloatingItem       object\n",
      "ItemLocation       object\n",
      "ReportDate         object\n",
      "ItemCount          int64\n",
      "dtypes: int64(2), object(11)\n",
      "memory usage: 266.5+ MB\n",
      "None\n",
      "(2687149, 13)\n"
     ]
    }
   ],
   "source": [
    "print(df.info())\n",
    "print(df.shape)"
   ]
  },
  {
   "cell_type": "markdown",
   "metadata": {},
   "source": [
    "### Remove duplicates\n",
    "From the dataset FAQ:<br>\n",
    "\"What is the dataset, Library Collection Inventory?\n",
    "It is a monthly snapshot of all of the physical items in the Seattle Public Library’s collection, beginning with a snapshot taken September 1, 2017.\"<br>\n",
    "We are interested in the most recent snapshot so we will only use items with ReportDate 10-01-2017."
   ]
  },
  {
   "cell_type": "code",
   "execution_count": 5,
   "metadata": {},
   "outputs": [],
   "source": [
    "df = df[df['ReportDate']=='10/01/2017']"
   ]
  },
  {
   "cell_type": "code",
   "execution_count": 8,
   "metadata": {},
   "outputs": [
    {
     "name": "stdout",
     "output_type": "stream",
     "text": [
      "<class 'pandas.core.frame.DataFrame'>\n",
      "Int64Index: 1343475 entries, 1334841 to 2687148\n",
      "Data columns (total 13 columns):\n",
      "BibNum             1343475 non-null int64\n",
      "Title              1336319 non-null object\n",
      "Author             1129871 non-null object\n",
      "ISBN               1049290 non-null object\n",
      "PublicationYear    1327875 non-null object\n",
      "Publisher          1324710 non-null object\n",
      "Subjects           1310578 non-null object\n",
      "ItemType           1343475 non-null object\n",
      "ItemCollection     1343475 non-null object\n",
      "FloatingItem       205527 non-null object\n",
      "ItemLocation       1343475 non-null object\n",
      "ReportDate         1343475 non-null object\n",
      "ItemCount          1343475 non-null int64\n",
      "dtypes: int64(2), object(11)\n",
      "memory usage: 143.5+ MB\n",
      "None\n"
     ]
    }
   ],
   "source": [
    "print(df.info())"
   ]
  },
  {
   "cell_type": "markdown",
   "metadata": {},
   "source": [
    "### Drop unnecessary columns\n",
    "The 'Subjects' and 'ISBN' column could be useful but for this exploration we'll drop it for now as an irrelevant column"
   ]
  },
  {
   "cell_type": "code",
   "execution_count": 9,
   "metadata": {},
   "outputs": [],
   "source": [
    "df.drop(['ISBN','Subjects','ItemType','ReportDate','FloatingItem'], axis=1, inplace=True)"
   ]
  },
  {
   "cell_type": "markdown",
   "metadata": {},
   "source": [
    "### Fixing column name"
   ]
  },
  {
   "cell_type": "code",
   "execution_count": 10,
   "metadata": {},
   "outputs": [],
   "source": [
    "df.rename(columns={'ItemCollection':'Code'},inplace=True)"
   ]
  },
  {
   "cell_type": "markdown",
   "metadata": {},
   "source": [
    "### Convert data type\n",
    "The 'PublicationYear' column has mixed formats for the year. It is initially a string but we'll change it to an integer for now instead of a datetime so that we can easily create an 'Age' column later. Since there are NaNs it changes to a float which is fine for now."
   ]
  },
  {
   "cell_type": "code",
   "execution_count": 11,
   "metadata": {
    "scrolled": true
   },
   "outputs": [
    {
     "name": "stdout",
     "output_type": "stream",
     "text": [
      "float64\n"
     ]
    }
   ],
   "source": [
    "# extract year only\n",
    "df['PublicationYear'] = df['PublicationYear'].str.extract('(\\d{4})')\n",
    "df['PublicationYear'] = pd.to_numeric(df['PublicationYear'], errors='coerce')\n",
    "print(df['PublicationYear'].dtype)"
   ]
  },
  {
   "cell_type": "markdown",
   "metadata": {},
   "source": [
    "### Dealing with outliers\n",
    "Looking at the max and the min for PublicationYear there are clearly outliers in the max and min range, likely due to typos. For example, the year 9836 is clearly wrong."
   ]
  },
  {
   "cell_type": "code",
   "execution_count": 12,
   "metadata": {},
   "outputs": [
    {
     "name": "stdout",
     "output_type": "stream",
     "text": [
      "count   1324624.00\n",
      "mean       2004.28\n",
      "std          22.84\n",
      "min        1406.00\n",
      "25%        2003.00\n",
      "50%        2012.00\n",
      "75%        2015.00\n",
      "max        9836.00\n",
      "Name: PublicationYear, dtype: float64\n"
     ]
    }
   ],
   "source": [
    "print(df['PublicationYear'].describe())"
   ]
  },
  {
   "cell_type": "code",
   "execution_count": 13,
   "metadata": {},
   "outputs": [
    {
     "name": "stdout",
     "output_type": "stream",
     "text": [
      "2018.00    350\n",
      "5706.00      1\n",
      "2022.00      1\n",
      "5703.00      1\n",
      "5698.00      1\n",
      "9200.00      1\n",
      "2536.00      1\n",
      "2529.00      1\n",
      "2534.00      1\n",
      "5761.00      1\n",
      "9836.00      1\n",
      "2114.00      1\n",
      "Name: PublicationYear, dtype: int64\n"
     ]
    }
   ],
   "source": [
    "print(df[df['PublicationYear']>2017]['PublicationYear'].value_counts())"
   ]
  },
  {
   "cell_type": "code",
   "execution_count": 14,
   "metadata": {},
   "outputs": [],
   "source": [
    "# assume 2018 is a typo and make latest year\n",
    "# set outlier dates due to typos to mean\n",
    "df.loc[df['PublicationYear']==2018, 'PublicationYear'] = 2017\n",
    "df.loc[df['PublicationYear']>2017, 'PublicationYear'] = round(df['PublicationYear'].mean())\n",
    "df.loc[df['PublicationYear']<1600, 'PublicationYear'] = round(df['PublicationYear'].mean())"
   ]
  },
  {
   "cell_type": "markdown",
   "metadata": {},
   "source": [
    "### Deal with NaNs\n",
    "Many of the NaNs come from reference sections that will not be used in the analysis of the catalogue or checkouts so we'll just use the mean again so that we can work freely."
   ]
  },
  {
   "cell_type": "code",
   "execution_count": 15,
   "metadata": {},
   "outputs": [
    {
     "name": "stdout",
     "output_type": "stream",
     "text": [
      "BibNum                  0\n",
      "Title                7156\n",
      "Author             213604\n",
      "PublicationYear     18851\n",
      "Publisher           18765\n",
      "Code                    0\n",
      "ItemLocation            0\n",
      "ItemCount               0\n",
      "dtype: int64\n"
     ]
    }
   ],
   "source": [
    "print(df.isnull().sum())"
   ]
  },
  {
   "cell_type": "code",
   "execution_count": 16,
   "metadata": {},
   "outputs": [
    {
     "name": "stdout",
     "output_type": "stream",
     "text": [
      "camus    7830\n",
      "caref    2760\n",
      "cs6r     1576\n",
      "canf     1239\n",
      "cs7r     1084\n",
      "Name: Code, dtype: int64\n"
     ]
    }
   ],
   "source": [
    "print(df[df['PublicationYear'].isnull()==True]['Code'].value_counts().head())"
   ]
  },
  {
   "cell_type": "code",
   "execution_count": 17,
   "metadata": {},
   "outputs": [],
   "source": [
    "df['PublicationYear'] = df['PublicationYear'].fillna(round(df['PublicationYear'].mean()))"
   ]
  },
  {
   "cell_type": "code",
   "execution_count": 18,
   "metadata": {},
   "outputs": [
    {
     "name": "stdout",
     "output_type": "stream",
     "text": [
      "PublicationYear Nulls:  0\n"
     ]
    }
   ],
   "source": [
    "print('PublicationYear Nulls: ',df['PublicationYear'].isnull().sum())"
   ]
  },
  {
   "cell_type": "markdown",
   "metadata": {},
   "source": [
    "### Creating an Age variable from PublicationYear"
   ]
  },
  {
   "cell_type": "code",
   "execution_count": 19,
   "metadata": {},
   "outputs": [],
   "source": [
    "# convert float to int for space purposes now that the NaN issue has been solved\n",
    "df['PublicationYear'] = df['PublicationYear'].astype(int)\n",
    "df['Age'] = df['PublicationYear'].max() - df['PublicationYear']"
   ]
  },
  {
   "cell_type": "markdown",
   "metadata": {},
   "source": [
    "### Merge with data dictionary\n",
    "The data dictionary gives additional information about the format types. We'll use a left join on the Code column to match the two sets"
   ]
  },
  {
   "cell_type": "code",
   "execution_count": 20,
   "metadata": {},
   "outputs": [
    {
     "name": "stdout",
     "output_type": "stream",
     "text": [
      "Index(['Code', 'Description', 'Code Type', 'Format Group', 'Format Subgroup',\n",
      "       'Category Group', 'Category Subgroup'],\n",
      "      dtype='object')\n"
     ]
    }
   ],
   "source": [
    "print(df_dic.columns)"
   ]
  },
  {
   "cell_type": "code",
   "execution_count": 21,
   "metadata": {},
   "outputs": [],
   "source": [
    "# drop unnecessary columns for data dictionary\n",
    "df_dic.drop(['Code Type','Category Subgroup'], axis=1, inplace=True)"
   ]
  },
  {
   "cell_type": "code",
   "execution_count": 22,
   "metadata": {},
   "outputs": [],
   "source": [
    "df = pd.merge(df, df_dic, on='Code', how='left')"
   ]
  },
  {
   "cell_type": "code",
   "execution_count": 23,
   "metadata": {},
   "outputs": [
    {
     "data": {
      "text/html": [
       "<div>\n",
       "<style scoped>\n",
       "    .dataframe tbody tr th:only-of-type {\n",
       "        vertical-align: middle;\n",
       "    }\n",
       "\n",
       "    .dataframe tbody tr th {\n",
       "        vertical-align: top;\n",
       "    }\n",
       "\n",
       "    .dataframe thead th {\n",
       "        text-align: right;\n",
       "    }\n",
       "</style>\n",
       "<table border=\"1\" class=\"dataframe\">\n",
       "  <thead>\n",
       "    <tr style=\"text-align: right;\">\n",
       "      <th></th>\n",
       "      <th>BibNum</th>\n",
       "      <th>Title</th>\n",
       "      <th>Author</th>\n",
       "      <th>PublicationYear</th>\n",
       "      <th>Publisher</th>\n",
       "      <th>Code</th>\n",
       "      <th>ItemLocation</th>\n",
       "      <th>ItemCount</th>\n",
       "      <th>Age</th>\n",
       "      <th>Description</th>\n",
       "      <th>Format Group</th>\n",
       "      <th>Format Subgroup</th>\n",
       "      <th>Category Group</th>\n",
       "    </tr>\n",
       "  </thead>\n",
       "  <tbody>\n",
       "    <tr>\n",
       "      <th>0</th>\n",
       "      <td>358805</td>\n",
       "      <td>RV buyers guide.</td>\n",
       "      <td>NaN</td>\n",
       "      <td>2004</td>\n",
       "      <td>Trailer Life</td>\n",
       "      <td>cs6r</td>\n",
       "      <td>cen</td>\n",
       "      <td>6</td>\n",
       "      <td>13</td>\n",
       "      <td>CS 6 - Ref</td>\n",
       "      <td>Print</td>\n",
       "      <td>Book</td>\n",
       "      <td>Reference</td>\n",
       "    </tr>\n",
       "    <tr>\n",
       "      <th>1</th>\n",
       "      <td>435170</td>\n",
       "      <td>NaN</td>\n",
       "      <td>NaN</td>\n",
       "      <td>2004</td>\n",
       "      <td>NaN</td>\n",
       "      <td>camus</td>\n",
       "      <td>cen</td>\n",
       "      <td>1</td>\n",
       "      <td>13</td>\n",
       "      <td>CA8-Music Score</td>\n",
       "      <td>Print</td>\n",
       "      <td>Music Score</td>\n",
       "      <td>Nonfiction</td>\n",
       "    </tr>\n",
       "    <tr>\n",
       "      <th>2</th>\n",
       "      <td>201097</td>\n",
       "      <td>Five plays.</td>\n",
       "      <td>O'Hara, John, 1905-1970</td>\n",
       "      <td>1961</td>\n",
       "      <td>Random House</td>\n",
       "      <td>canf</td>\n",
       "      <td>cen</td>\n",
       "      <td>1</td>\n",
       "      <td>56</td>\n",
       "      <td>CA-Nonfiction</td>\n",
       "      <td>Print</td>\n",
       "      <td>Book</td>\n",
       "      <td>Nonfiction</td>\n",
       "    </tr>\n",
       "  </tbody>\n",
       "</table>\n",
       "</div>"
      ],
      "text/plain": [
       "   BibNum             Title                   Author  PublicationYear  \\\n",
       "0  358805  RV buyers guide.                      NaN             2004   \n",
       "1  435170               NaN                      NaN             2004   \n",
       "2  201097       Five plays.  O'Hara, John, 1905-1970             1961   \n",
       "\n",
       "      Publisher   Code ItemLocation  ItemCount  Age      Description  \\\n",
       "0  Trailer Life   cs6r          cen          6   13       CS 6 - Ref   \n",
       "1           NaN  camus          cen          1   13  CA8-Music Score   \n",
       "2  Random House   canf          cen          1   56    CA-Nonfiction   \n",
       "\n",
       "  Format Group Format Subgroup Category Group  \n",
       "0        Print            Book      Reference  \n",
       "1        Print     Music Score     Nonfiction  \n",
       "2        Print            Book     Nonfiction  "
      ]
     },
     "execution_count": 23,
     "metadata": {},
     "output_type": "execute_result"
    }
   ],
   "source": [
    "df.head(3)"
   ]
  },
  {
   "cell_type": "code",
   "execution_count": 24,
   "metadata": {},
   "outputs": [
    {
     "name": "stdout",
     "output_type": "stream",
     "text": [
      "<class 'pandas.core.frame.DataFrame'>\n",
      "Int64Index: 1343475 entries, 0 to 1343474\n",
      "Data columns (total 13 columns):\n",
      "BibNum             1343475 non-null int64\n",
      "Title              1336319 non-null object\n",
      "Author             1129871 non-null object\n",
      "PublicationYear    1343475 non-null int64\n",
      "Publisher          1324710 non-null object\n",
      "Code               1343475 non-null object\n",
      "ItemLocation       1343475 non-null object\n",
      "ItemCount          1343475 non-null int64\n",
      "Age                1343475 non-null int64\n",
      "Description        1340216 non-null object\n",
      "Format Group       1340216 non-null object\n",
      "Format Subgroup    1339217 non-null object\n",
      "Category Group     1169205 non-null object\n",
      "dtypes: int64(4), object(9)\n",
      "memory usage: 143.5+ MB\n",
      "None\n"
     ]
    }
   ],
   "source": [
    "print(df.info())"
   ]
  },
  {
   "cell_type": "code",
   "execution_count": 25,
   "metadata": {},
   "outputs": [
    {
     "name": "stdout",
     "output_type": "stream",
     "text": [
      "BibNum                  0\n",
      "Title                7156\n",
      "Author             213604\n",
      "PublicationYear         0\n",
      "Publisher           18765\n",
      "Code                    0\n",
      "ItemLocation            0\n",
      "ItemCount               0\n",
      "Age                     0\n",
      "Description          3259\n",
      "Format Group         3259\n",
      "Format Subgroup      4258\n",
      "Category Group     174270\n",
      "dtype: int64\n"
     ]
    }
   ],
   "source": [
    "print(df.isnull().sum())"
   ]
  },
  {
   "cell_type": "markdown",
   "metadata": {},
   "source": [
    "### Where are the new nulls?"
   ]
  },
  {
   "cell_type": "markdown",
   "metadata": {},
   "source": [
    "The null values for Category group, that is, the group that tells us whether something is fiction, nonfiction, reference, etc. might be tricky. Since many of them will not appear in the final dataset, we'll keep them null for now"
   ]
  },
  {
   "cell_type": "code",
   "execution_count": 26,
   "metadata": {
    "scrolled": true
   },
   "outputs": [
    {
     "name": "stdout",
     "output_type": "stream",
     "text": [
      "NC--Children's Picture Books     71549\n",
      "NA-Compact Discs                 40828\n",
      "CA8-Music CD                     21218\n",
      "CC-Children's Picture Books      11473\n",
      "NA-Books in CD Format             8387\n",
      "NC-Children's CDs                 5908\n",
      "NC-Children's Books on CD         3622\n",
      "CC-Children's Compact Discs       3093\n",
      "CC-Children's DVD, Fiction        2017\n",
      "NY-Teen - Books on CD             1200\n",
      "CC-Children's DVD, Nonfiction      671\n",
      "CC-Children's Kit                  551\n",
      "CY3-Teen Compact Disc              492\n",
      "NC-Children's Board Books            2\n",
      "Name: Description, dtype: int64\n"
     ]
    }
   ],
   "source": [
    "print(df[df['Category Group'].isnull()]['Description'].value_counts())"
   ]
  },
  {
   "cell_type": "markdown",
   "metadata": {},
   "source": [
    "### Fix new nulls"
   ]
  },
  {
   "cell_type": "code",
   "execution_count": 27,
   "metadata": {},
   "outputs": [
    {
     "data": {
      "text/plain": [
       "cs9g     2946\n",
       "cs9go     297\n",
       "cs9gf      16\n",
       "Name: Code, dtype: int64"
      ]
     },
     "execution_count": 27,
     "metadata": {},
     "output_type": "execute_result"
    }
   ],
   "source": [
    "df[df['Description'].isnull()]['Code'].value_counts()"
   ]
  },
  {
   "cell_type": "markdown",
   "metadata": {},
   "source": [
    "We can confidently say the cs9 category is a print book with no category based on the data dictionary so we can fill in the missing info. We could also drop these rows since they appear to be part of a special collection that doesn't circulate much anyway. We will fix them since it's quick."
   ]
  },
  {
   "cell_type": "code",
   "execution_count": 28,
   "metadata": {},
   "outputs": [],
   "source": [
    "df.loc[(df['Format Subgroup'].isnull()==True) & (df['Description'].isnull()==True),['Format Subgroup']] = 'Book' \n",
    "df['Description'] = df['Description'].fillna('CS 9')\n",
    "df['Format Group'] = df['Format Group'].fillna('Print')"
   ]
  },
  {
   "cell_type": "markdown",
   "metadata": {},
   "source": [
    "The remaining format subgroup NAs are \"play files\" and don't fall under any category and the deletion of the 2006 rows will be negligible"
   ]
  },
  {
   "cell_type": "code",
   "execution_count": 30,
   "metadata": {},
   "outputs": [],
   "source": [
    "df.dropna(subset=['Format Subgroup'], inplace=True)"
   ]
  },
  {
   "cell_type": "code",
   "execution_count": 31,
   "metadata": {},
   "outputs": [
    {
     "name": "stdout",
     "output_type": "stream",
     "text": [
      "BibNum                  0\n",
      "Title                7156\n",
      "Author             213591\n",
      "PublicationYear         0\n",
      "Publisher           18764\n",
      "Code                    0\n",
      "ItemLocation            0\n",
      "ItemCount               0\n",
      "Age                     0\n",
      "Description             0\n",
      "Format Group            0\n",
      "Format Subgroup         0\n",
      "Category Group     174270\n",
      "dtype: int64\n"
     ]
    }
   ],
   "source": [
    "print(df.isnull().sum())"
   ]
  },
  {
   "cell_type": "markdown",
   "metadata": {},
   "source": [
    "The Title, Author, and Publisher nulls will be addressed later. For now they don't affect analysis. They mostly occur because DVDs, CDs, reference books, and music scores don't always have titles, authors, and publishers. If we just want to do a book analysis it shouldn't be a problem."
   ]
  },
  {
   "cell_type": "code",
   "execution_count": 32,
   "metadata": {},
   "outputs": [
    {
     "name": "stdout",
     "output_type": "stream",
     "text": [
      "Title Nulls\n",
      "\n",
      " CA8-Music Score                  6434\n",
      "CA1-Language                      708\n",
      "CA1-World Languages Reference       7\n",
      "CA8-RefDesk, ARL                    3\n",
      "CS 8 - Reference                    2\n",
      "Name: Description, dtype: int64 \n",
      "\n",
      "Author Nulls\n",
      "\n",
      " NA-DVD, Fiction       44630\n",
      "CA-Nonfiction         23604\n",
      "NC-Children's DVDs    15636\n",
      "NA-DVD, Nonfiction    14068\n",
      "NA-Nonfiction         13441\n",
      "Name: Description, dtype: int64 \n",
      "\n",
      "Publisher Nulls\n",
      "\n",
      " CA8-Music Score     6449\n",
      "CS 7 - Ref          2750\n",
      "CA-Reference        2222\n",
      "CS 6 - Ref          1595\n",
      "CS 8 - Reference    1339\n",
      "Name: Description, dtype: int64 \n",
      "\n"
     ]
    }
   ],
   "source": [
    "print('Title Nulls\\n\\n', df[df['Title'].isnull()]['Description'].value_counts().head(),'\\n')\n",
    "print('Author Nulls\\n\\n', df[df['Author'].isnull()]['Description'].value_counts().head(),'\\n')\n",
    "print('Publisher Nulls\\n\\n', df[df['Publisher'].isnull()]['Description'].value_counts().head(),'\\n')"
   ]
  },
  {
   "cell_type": "markdown",
   "metadata": {},
   "source": [
    "### Create Child and Teen variables\n",
    "We can extract them from the description to tell us whether an item is for children or teens specifically."
   ]
  },
  {
   "cell_type": "code",
   "execution_count": 33,
   "metadata": {},
   "outputs": [],
   "source": [
    "# create variable that tells us whether an item is specifically for children\n",
    "df['Child'] = df['Description'].str.lower().str.extract(r'(child)')\n",
    "df['Child'] = (df['Child'] == 'child').astype(int)\n",
    "# create variable that tells us whether an item is specifically for teens\n",
    "df['Teen'] = df['Description'].str.lower().str.extract(r'(teen)')\n",
    "df['Teen'] = (df['Teen'] == 'teen').astype(int)"
   ]
  },
  {
   "cell_type": "code",
   "execution_count": 34,
   "metadata": {},
   "outputs": [
    {
     "name": "stdout",
     "output_type": "stream",
     "text": [
      "Index(['BibNum', 'Title', 'Author', 'PublicationYear', 'Publisher', 'Code',\n",
      "       'ItemLocation', 'ItemCount', 'Age', 'Description', 'Format Group',\n",
      "       'Format Subgroup', 'Category Group', 'Child', 'Teen'],\n",
      "      dtype='object')\n"
     ]
    }
   ],
   "source": [
    "print(df.columns)"
   ]
  },
  {
   "cell_type": "code",
   "execution_count": 35,
   "metadata": {},
   "outputs": [
    {
     "name": "stdout",
     "output_type": "stream",
     "text": [
      "<class 'pandas.core.frame.DataFrame'>\n",
      "Int64Index: 1342476 entries, 0 to 1343474\n",
      "Data columns (total 15 columns):\n",
      "BibNum             1342476 non-null int64\n",
      "Title              1335320 non-null object\n",
      "Author             1128885 non-null object\n",
      "PublicationYear    1342476 non-null int64\n",
      "Publisher          1323712 non-null object\n",
      "Code               1342476 non-null object\n",
      "ItemLocation       1342476 non-null object\n",
      "ItemCount          1342476 non-null int64\n",
      "Age                1342476 non-null int64\n",
      "Description        1342476 non-null object\n",
      "Format Group       1342476 non-null object\n",
      "Format Subgroup    1342476 non-null object\n",
      "Category Group     1168206 non-null object\n",
      "Child              1342476 non-null int64\n",
      "Teen               1342476 non-null int64\n",
      "dtypes: int64(6), object(9)\n",
      "memory usage: 163.9+ MB\n"
     ]
    }
   ],
   "source": [
    "df.info()"
   ]
  },
  {
   "cell_type": "markdown",
   "metadata": {},
   "source": [
    "# Basic EDA\n",
    "Here we'll explore the total collection as a whole to learn more about the items in the system. We'll try to take a telescoping view and we'll begin with this widest view of everything available."
   ]
  },
  {
   "cell_type": "markdown",
   "metadata": {},
   "source": [
    "### How many unique items are there in the collection? (one variable)\n",
    "We can see that there are 580,934 unique items across all media. In the whole collection, there are 1,629,739 items listed in this dataset."
   ]
  },
  {
   "cell_type": "code",
   "execution_count": 42,
   "metadata": {},
   "outputs": [
    {
     "name": "stdout",
     "output_type": "stream",
     "text": [
      "Unique items:  580934\n",
      "Total items:  1629739\n"
     ]
    }
   ],
   "source": [
    "print('Unique items: ',df['BibNum'].nunique())\n",
    "print('Total items: ',df['ItemCount'].sum())"
   ]
  },
  {
   "cell_type": "markdown",
   "metadata": {},
   "source": [
    "### What do the branches look like? (categorical x numeric)\n",
    "\n",
    "The last six entries are not actually branches so we'll remove those by selecting the top 27 branches (out of 33). We could join the location table to show the full names if we wanted to but this is just a cursory investigation.\n",
    "The biggest branch is by far the central branch and the smallest is the wallingford branch with just 1.3% the items of the central branch. The average local branch (Central Branch doesn't count) has 32,933 items."
   ]
  },
  {
   "cell_type": "code",
   "execution_count": 54,
   "metadata": {},
   "outputs": [
    {
     "name": "stdout",
     "output_type": "stream",
     "text": [
      "ItemLocation\n",
      "cen    758927\n",
      "net     70031\n",
      "bal     61552\n",
      "gwd     56771\n",
      "swt     54142\n",
      "Name: ItemCount, dtype: int64\n",
      "ItemLocation\n",
      "spa    16370\n",
      "nhy    12749\n",
      "idc    11697\n",
      "mgm    10908\n",
      "wal     9534\n",
      "Name: ItemCount, dtype: int64\n",
      "\n",
      "Branches average items  32933.0\n"
     ]
    }
   ],
   "source": [
    "df_loc = df.groupby(by='ItemLocation')['ItemCount'].sum().sort_values(ascending=False)[:27]\n",
    "print(df_loc.head())\n",
    "print(df_loc.tail())\n",
    "print('\\nBranches average items ',df_loc[1:].mean().round())"
   ]
  },
  {
   "cell_type": "code",
   "execution_count": 55,
   "metadata": {
    "scrolled": false
   },
   "outputs": [
    {
     "data": {
      "image/png": "[encoded data removed]",
      "text/plain": [
       "<Figure size 864x432 with 1 Axes>"
      ]
     },
     "metadata": {},
     "output_type": "display_data"
    }
   ],
   "source": [
    "plt.figure(figsize=(12,6))\n",
    "plt.title('Items by Branch')\n",
    "plt.xticks(rotation=45)\n",
    "sns.barplot(x='ItemLocation', y='ItemCount', data=df_loc.reset_index(),palette='viridis');\n",
    "# plt.savefig('../../docs/images/branches.png')"
   ]
  },
  {
   "cell_type": "markdown",
   "metadata": {},
   "source": [
    "### What types of materials are in the physical collection? (cat x num)\n",
    "There are over 1.34 million books and 285,641 media items. DVDs and CDs are the second and third most popular format, respectively. I didn't expect there to be so many music score items. There are almost as many as audio books! It is also very strange to see only two video tapes and five audio tapes exist. Why keep so few?"
   ]
  },
  {
   "cell_type": "code",
   "execution_count": 57,
   "metadata": {},
   "outputs": [
    {
     "name": "stdout",
     "output_type": "stream",
     "text": [
      "Format Subgroup\n",
      "Book              1344098\n",
      "Video Disc         152897\n",
      "Audio Disc          80081\n",
      "Audiobook Disc      23949\n",
      "Music Score         19759\n",
      "Audiobook            8821\n",
      "Data Disc              65\n",
      "Document               62\n",
      "Audio Tape              5\n",
      "Video Tape              2\n",
      "Name: ItemCount, dtype: int64\n",
      "\n",
      "Non-book 285641\n"
     ]
    }
   ],
   "source": [
    "df_format = df.groupby(by='Format Subgroup')['ItemCount'].sum().sort_values(ascending=False)\n",
    "print(df_format)\n",
    "print('\\nNon-book',df_format[1:].sum())"
   ]
  },
  {
   "cell_type": "code",
   "execution_count": 59,
   "metadata": {},
   "outputs": [
    {
     "data": {
      "image/png": "[encoded data removed]",
      "text/plain": [
       "<Figure size 864x432 with 1 Axes>"
      ]
     },
     "metadata": {},
     "output_type": "display_data"
    }
   ],
   "source": [
    "plt.figure(figsize=(12,6))\n",
    "plt.title('Items by Format')\n",
    "plt.xticks(rotation=45)\n",
    "sns.barplot(x='Format Subgroup', y='ItemCount', data=df_format.reset_index(),palette='viridis')\n",
    "# plt.savefig('../../docs/images/itemsbyformat.png')"
   ]
  },
  {
   "cell_type": "code",
   "execution_count": 68,
   "metadata": {},
   "outputs": [
    {
     "data": {
      "text/plain": [
       "117740     Wenn die Sonne sinkt-- [sound recording] / Elf...\n",
       "140461     La belle Hélène [videorecording] / a ZDF/RM Ar...\n",
       "149238     Schachnovelle [sound recording] ; Der Amokläuf...\n",
       "162049                Heroes de la Biblia [sound recording].\n",
       "714941     Teaching children to read [videorecording] / p...\n",
       "844936                        Novyĭ Zavet [sound recording].\n",
       "1320219    Ogonëk [sound recording] : novyĭ ėtap istorii ...\n",
       "Name: Title, dtype: object"
      ]
     },
     "execution_count": 68,
     "metadata": {},
     "output_type": "execute_result"
    }
   ],
   "source": [
    "# Out of curiosity, here are the only remaing audio and video tapes\n",
    "df[(df['Format Subgroup']=='Video Tape') | (df['Format Subgroup']=='Audio Tape')]['Title']"
   ]
  },
  {
   "cell_type": "markdown",
   "metadata": {},
   "source": [
    "### When were most of the items in the collection published? (cat x num)\n",
    "From the chart below we can see that most library titles are new. That is, as we get further from the present, the fewer items representing those years there are. This makes sense since the library gets rid of old materials when they become less relevant. It tries to keep up with popular tastes and offer the latest releases. A drawback of setting the PublicationDate null values to the mean age is that now the year 2004 is artificially inflated and it's quite glaring. Another tactic is likely needed to deal with the year nulls.\n",
    "\n",
    "Note that the last 30 years represent more than 87% of all titles."
   ]
  },
  {
   "cell_type": "code",
   "execution_count": 71,
   "metadata": {},
   "outputs": [
    {
     "name": "stdout",
     "output_type": "stream",
     "text": [
      "     PublicationYear  ItemCount\n",
      "261             2016     177121\n",
      "260             2015     151866\n",
      "262             2017     129279\n",
      "259             2014     123916\n",
      "258             2013     111634\n"
     ]
    }
   ],
   "source": [
    "df_pubYear = df.groupby(by='PublicationYear')['ItemCount'].sum().\\\n",
    "reset_index().sort_values(by='ItemCount',ascending=False)\n",
    "print(df_pubYear.head())"
   ]
  },
  {
   "cell_type": "code",
   "execution_count": 83,
   "metadata": {},
   "outputs": [
    {
     "name": "stdout",
     "output_type": "stream",
     "text": [
      "Last 30 Years:  1420044\n",
      "Total collection:  1629739\n",
      "Last 30 Years percent of total:  87.1\n"
     ]
    }
   ],
   "source": [
    "print('Last 30 Years: ',df_pubYear['ItemCount'][:30].sum())\n",
    "print('Total collection: ',df_pubYear['ItemCount'].sum())\n",
    "print('Last 30 Years percent of total: ',round((df_pubYear['ItemCount'][:30].sum()/df_pubYear['ItemCount'].sum())*100,1))"
   ]
  },
  {
   "cell_type": "code",
   "execution_count": 84,
   "metadata": {},
   "outputs": [
    {
     "data": {
      "image/png": "[encoded data removed]",
      "text/plain": [
       "<Figure size 864x432 with 1 Axes>"
      ]
     },
     "metadata": {},
     "output_type": "display_data"
    }
   ],
   "source": [
    "plt.figure(figsize=(12,6))\n",
    "plt.title('Top Publication Years')\n",
    "plt.xticks(rotation=45)\n",
    "sns.barplot(x='PublicationYear',y='ItemCount',data=df_pubYear[:30])\n",
    "# plt.savefig('../../docs/images/topyears.png')"
   ]
  },
  {
   "cell_type": "markdown",
   "metadata": {},
   "source": [
    "### What percentage of items are specifically for teens and children?"
   ]
  },
  {
   "cell_type": "code",
   "execution_count": 107,
   "metadata": {},
   "outputs": [
    {
     "name": "stdout",
     "output_type": "stream",
     "text": [
      "Child Items Percent of total:  22.8 %\n",
      "Teen Items Percent of total:  3.9 %\n"
     ]
    }
   ],
   "source": [
    "df.groupby(by='Child')['ItemCount'].sum()[1]\n",
    "df.groupby(by='Teen')['ItemCount'].sum()[1]\n",
    "print('Child Items Percent of total: ',round((df.groupby(by='Child')['ItemCount'].sum()[1])/(df['ItemCount'].sum())*100,1),'%')\n",
    "print('Teen Items Percent of total: ',round((df.groupby(by='Teen')['ItemCount'].sum()[1])/(df['ItemCount'].sum())*100,1),'%')"
   ]
  },
  {
   "cell_type": "markdown",
   "metadata": {},
   "source": [
    "### Are most of the items fiction or nonfiction?\n",
    "This is an interesting question because there are still a lot of null values that could be assigned to any of these categories."
   ]
  },
  {
   "cell_type": "code",
   "execution_count": 108,
   "metadata": {},
   "outputs": [
    {
     "data": {
      "text/html": [
       "<div>\n",
       "<style scoped>\n",
       "    .dataframe tbody tr th:only-of-type {\n",
       "        vertical-align: middle;\n",
       "    }\n",
       "\n",
       "    .dataframe tbody tr th {\n",
       "        vertical-align: top;\n",
       "    }\n",
       "\n",
       "    .dataframe thead th {\n",
       "        text-align: right;\n",
       "    }\n",
       "</style>\n",
       "<table border=\"1\" class=\"dataframe\">\n",
       "  <thead>\n",
       "    <tr style=\"text-align: right;\">\n",
       "      <th></th>\n",
       "      <th>Category Group</th>\n",
       "      <th>ItemCount</th>\n",
       "    </tr>\n",
       "  </thead>\n",
       "  <tbody>\n",
       "    <tr>\n",
       "      <th>0</th>\n",
       "      <td>Nonfiction</td>\n",
       "      <td>627751</td>\n",
       "    </tr>\n",
       "    <tr>\n",
       "      <th>1</th>\n",
       "      <td>Fiction</td>\n",
       "      <td>528997</td>\n",
       "    </tr>\n",
       "    <tr>\n",
       "      <th>2</th>\n",
       "      <td>Reference</td>\n",
       "      <td>194385</td>\n",
       "    </tr>\n",
       "    <tr>\n",
       "      <th>3</th>\n",
       "      <td>Language</td>\n",
       "      <td>75026</td>\n",
       "    </tr>\n",
       "  </tbody>\n",
       "</table>\n",
       "</div>"
      ],
      "text/plain": [
       "  Category Group  ItemCount\n",
       "0     Nonfiction     627751\n",
       "1        Fiction     528997\n",
       "2      Reference     194385\n",
       "3       Language      75026"
      ]
     },
     "execution_count": 108,
     "metadata": {},
     "output_type": "execute_result"
    }
   ],
   "source": [
    "df.groupby(by='Category Group')['ItemCount'].sum().sort_values(ascending=False).reset_index()"
   ]
  },
  {
   "cell_type": "code",
   "execution_count": 111,
   "metadata": {},
   "outputs": [
    {
     "name": "stdout",
     "output_type": "stream",
     "text": [
      "Null Category values:  174270\n"
     ]
    }
   ],
   "source": [
    "print('Null Category values: ',df['Category Group'].isnull().sum())"
   ]
  },
  {
   "cell_type": "markdown",
   "metadata": {},
   "source": [
    "### What are the titles with the most copies?\n",
    "\n",
    "For Nonfiction, the top title was \"SPL HotSpot : connecting Seattle / [distributed by Verizon Wireless].\" Further investigation showed that this item has entries across all media types and subtypes. It's clearly not a book or dvd so I removed it from this particular dataframe with a condition.\n",
    "\n",
    "The most common nonfiction titles are books, with only one documentary DVD appearing in the top 30. Meanwhile the top 30 fiction titles are a pretty even mix of books and DVDs. Notably, the top two books were published the month before the collection dataset was updated. This indicated the library prepares itself for big book releases by having sufficient copies to satisfy demand."
   ]
  },
  {
   "cell_type": "code",
   "execution_count": 116,
   "metadata": {},
   "outputs": [
    {
     "data": {
      "text/html": [
       "<div>\n",
       "<style scoped>\n",
       "    .dataframe tbody tr th:only-of-type {\n",
       "        vertical-align: middle;\n",
       "    }\n",
       "\n",
       "    .dataframe tbody tr th {\n",
       "        vertical-align: top;\n",
       "    }\n",
       "\n",
       "    .dataframe thead th {\n",
       "        text-align: right;\n",
       "    }\n",
       "</style>\n",
       "<table border=\"1\" class=\"dataframe\">\n",
       "  <thead>\n",
       "    <tr style=\"text-align: right;\">\n",
       "      <th></th>\n",
       "      <th>Format Subgroup</th>\n",
       "      <th>Title</th>\n",
       "      <th>ItemCount</th>\n",
       "    </tr>\n",
       "  </thead>\n",
       "  <tbody>\n",
       "    <tr>\n",
       "      <th>0</th>\n",
       "      <td>Book</td>\n",
       "      <td>Don't let go / Harlan Coben.</td>\n",
       "      <td>261</td>\n",
       "    </tr>\n",
       "    <tr>\n",
       "      <th>1</th>\n",
       "      <td>Book</td>\n",
       "      <td>Five-carat soul / James McBride.</td>\n",
       "      <td>248</td>\n",
       "    </tr>\n",
       "    <tr>\n",
       "      <th>2</th>\n",
       "      <td>Video Disc</td>\n",
       "      <td>Arrival / Paramount Pictures ; Filmnation Ente...</td>\n",
       "      <td>245</td>\n",
       "    </tr>\n",
       "    <tr>\n",
       "      <th>3</th>\n",
       "      <td>Book</td>\n",
       "      <td>The Underground Railroad : a novel / Colson Wh...</td>\n",
       "      <td>234</td>\n",
       "    </tr>\n",
       "    <tr>\n",
       "      <th>4</th>\n",
       "      <td>Video Disc</td>\n",
       "      <td>Moonlight / A24 ; Plan B ; Pastel ; produced b...</td>\n",
       "      <td>210</td>\n",
       "    </tr>\n",
       "    <tr>\n",
       "      <th>5</th>\n",
       "      <td>Book</td>\n",
       "      <td>Glass houses / Louise Penny.</td>\n",
       "      <td>207</td>\n",
       "    </tr>\n",
       "    <tr>\n",
       "      <th>6</th>\n",
       "      <td>Book</td>\n",
       "      <td>Into the water / Paula Hawkins.</td>\n",
       "      <td>202</td>\n",
       "    </tr>\n",
       "    <tr>\n",
       "      <th>7</th>\n",
       "      <td>Book</td>\n",
       "      <td>The ministry of utmost happiness / Arundhati Roy.</td>\n",
       "      <td>199</td>\n",
       "    </tr>\n",
       "    <tr>\n",
       "      <th>8</th>\n",
       "      <td>Video Disc</td>\n",
       "      <td>La La Land / Summit Entertainment ; in associa...</td>\n",
       "      <td>198</td>\n",
       "    </tr>\n",
       "    <tr>\n",
       "      <th>9</th>\n",
       "      <td>Video Disc</td>\n",
       "      <td>Hidden figures / 20th Century Fox ; Fox 2000 P...</td>\n",
       "      <td>197</td>\n",
       "    </tr>\n",
       "    <tr>\n",
       "      <th>10</th>\n",
       "      <td>Video Disc</td>\n",
       "      <td>Manchester by the Sea / Lionsgate ; Amazon Stu...</td>\n",
       "      <td>195</td>\n",
       "    </tr>\n",
       "    <tr>\n",
       "      <th>11</th>\n",
       "      <td>Book</td>\n",
       "      <td>A gentleman in Moscow / Amor Towles.</td>\n",
       "      <td>182</td>\n",
       "    </tr>\n",
       "    <tr>\n",
       "      <th>12</th>\n",
       "      <td>Book</td>\n",
       "      <td>The late show / Michael Connelly.</td>\n",
       "      <td>182</td>\n",
       "    </tr>\n",
       "    <tr>\n",
       "      <th>13</th>\n",
       "      <td>Video Disc</td>\n",
       "      <td>The girl on the train / Dreamworks Pictures an...</td>\n",
       "      <td>178</td>\n",
       "    </tr>\n",
       "    <tr>\n",
       "      <th>14</th>\n",
       "      <td>Book</td>\n",
       "      <td>Magpie murders / Anthony Horowitz.</td>\n",
       "      <td>175</td>\n",
       "    </tr>\n",
       "    <tr>\n",
       "      <th>15</th>\n",
       "      <td>Video Disc</td>\n",
       "      <td>Lion / The Weinstein Company ; Screen Australi...</td>\n",
       "      <td>173</td>\n",
       "    </tr>\n",
       "    <tr>\n",
       "      <th>16</th>\n",
       "      <td>Book</td>\n",
       "      <td>Y is for yesterday / Sue Grafton.</td>\n",
       "      <td>172</td>\n",
       "    </tr>\n",
       "    <tr>\n",
       "      <th>17</th>\n",
       "      <td>Video Disc</td>\n",
       "      <td>Jason Bourne [videorecording] / Universal Pict...</td>\n",
       "      <td>170</td>\n",
       "    </tr>\n",
       "    <tr>\n",
       "      <th>18</th>\n",
       "      <td>Book</td>\n",
       "      <td>A man called Ove : a novel / Fredrik Backman ;...</td>\n",
       "      <td>168</td>\n",
       "    </tr>\n",
       "    <tr>\n",
       "      <th>19</th>\n",
       "      <td>Book</td>\n",
       "      <td>Camino Island / John Grisham.</td>\n",
       "      <td>167</td>\n",
       "    </tr>\n",
       "    <tr>\n",
       "      <th>20</th>\n",
       "      <td>Book</td>\n",
       "      <td>A legacy of spies / John le Carré.</td>\n",
       "      <td>166</td>\n",
       "    </tr>\n",
       "    <tr>\n",
       "      <th>21</th>\n",
       "      <td>Video Disc</td>\n",
       "      <td>Fantastic beasts and where to find them / Warn...</td>\n",
       "      <td>165</td>\n",
       "    </tr>\n",
       "    <tr>\n",
       "      <th>22</th>\n",
       "      <td>Book</td>\n",
       "      <td>Little fires everywhere / Celeste Ng.</td>\n",
       "      <td>165</td>\n",
       "    </tr>\n",
       "    <tr>\n",
       "      <th>23</th>\n",
       "      <td>Video Disc</td>\n",
       "      <td>Sully [videorecording] / Warner Bros. Pictures...</td>\n",
       "      <td>164</td>\n",
       "    </tr>\n",
       "    <tr>\n",
       "      <th>24</th>\n",
       "      <td>Book</td>\n",
       "      <td>Anything is possible / Elizabeth Strout.</td>\n",
       "      <td>163</td>\n",
       "    </tr>\n",
       "    <tr>\n",
       "      <th>25</th>\n",
       "      <td>Video Disc</td>\n",
       "      <td>Hacksaw Ridge / Summit Entertainment ; Cross C...</td>\n",
       "      <td>163</td>\n",
       "    </tr>\n",
       "    <tr>\n",
       "      <th>26</th>\n",
       "      <td>Video Disc</td>\n",
       "      <td>Finding Dory [videorecording] / Walt Disney Pi...</td>\n",
       "      <td>157</td>\n",
       "    </tr>\n",
       "    <tr>\n",
       "      <th>27</th>\n",
       "      <td>Book</td>\n",
       "      <td>George &amp; Lizzie : a novel / Nancy Pearl.</td>\n",
       "      <td>156</td>\n",
       "    </tr>\n",
       "    <tr>\n",
       "      <th>28</th>\n",
       "      <td>Book</td>\n",
       "      <td>Mrs. Fletcher : a novel / Tom Perrotta.</td>\n",
       "      <td>156</td>\n",
       "    </tr>\n",
       "    <tr>\n",
       "      <th>29</th>\n",
       "      <td>Book</td>\n",
       "      <td>The handmaid's tale / Margaret Atwood.</td>\n",
       "      <td>153</td>\n",
       "    </tr>\n",
       "    <tr>\n",
       "      <th>30</th>\n",
       "      <td>Video Disc</td>\n",
       "      <td>Guardians of the galaxy. Vol. 2 / Marvel Studi...</td>\n",
       "      <td>151</td>\n",
       "    </tr>\n",
       "  </tbody>\n",
       "</table>\n",
       "</div>"
      ],
      "text/plain": [
       "   Format Subgroup                                              Title  \\\n",
       "0             Book                       Don't let go / Harlan Coben.   \n",
       "1             Book                   Five-carat soul / James McBride.   \n",
       "2       Video Disc  Arrival / Paramount Pictures ; Filmnation Ente...   \n",
       "3             Book  The Underground Railroad : a novel / Colson Wh...   \n",
       "4       Video Disc  Moonlight / A24 ; Plan B ; Pastel ; produced b...   \n",
       "5             Book                       Glass houses / Louise Penny.   \n",
       "6             Book                    Into the water / Paula Hawkins.   \n",
       "7             Book  The ministry of utmost happiness / Arundhati Roy.   \n",
       "8       Video Disc  La La Land / Summit Entertainment ; in associa...   \n",
       "9       Video Disc  Hidden figures / 20th Century Fox ; Fox 2000 P...   \n",
       "10      Video Disc  Manchester by the Sea / Lionsgate ; Amazon Stu...   \n",
       "11            Book               A gentleman in Moscow / Amor Towles.   \n",
       "12            Book                  The late show / Michael Connelly.   \n",
       "13      Video Disc  The girl on the train / Dreamworks Pictures an...   \n",
       "14            Book                 Magpie murders / Anthony Horowitz.   \n",
       "15      Video Disc  Lion / The Weinstein Company ; Screen Australi...   \n",
       "16            Book                  Y is for yesterday / Sue Grafton.   \n",
       "17      Video Disc  Jason Bourne [videorecording] / Universal Pict...   \n",
       "18            Book  A man called Ove : a novel / Fredrik Backman ;...   \n",
       "19            Book                      Camino Island / John Grisham.   \n",
       "20            Book                 A legacy of spies / John le Carré.   \n",
       "21      Video Disc  Fantastic beasts and where to find them / Warn...   \n",
       "22            Book              Little fires everywhere / Celeste Ng.   \n",
       "23      Video Disc  Sully [videorecording] / Warner Bros. Pictures...   \n",
       "24            Book           Anything is possible / Elizabeth Strout.   \n",
       "25      Video Disc  Hacksaw Ridge / Summit Entertainment ; Cross C...   \n",
       "26      Video Disc  Finding Dory [videorecording] / Walt Disney Pi...   \n",
       "27            Book           George & Lizzie : a novel / Nancy Pearl.   \n",
       "28            Book            Mrs. Fletcher : a novel / Tom Perrotta.   \n",
       "29            Book             The handmaid's tale / Margaret Atwood.   \n",
       "30      Video Disc  Guardians of the galaxy. Vol. 2 / Marvel Studi...   \n",
       "\n",
       "    ItemCount  \n",
       "0         261  \n",
       "1         248  \n",
       "2         245  \n",
       "3         234  \n",
       "4         210  \n",
       "5         207  \n",
       "6         202  \n",
       "7         199  \n",
       "8         198  \n",
       "9         197  \n",
       "10        195  \n",
       "11        182  \n",
       "12        182  \n",
       "13        178  \n",
       "14        175  \n",
       "15        173  \n",
       "16        172  \n",
       "17        170  \n",
       "18        168  \n",
       "19        167  \n",
       "20        166  \n",
       "21        165  \n",
       "22        165  \n",
       "23        164  \n",
       "24        163  \n",
       "25        163  \n",
       "26        157  \n",
       "27        156  \n",
       "28        156  \n",
       "29        153  \n",
       "30        151  "
      ]
     },
     "execution_count": 116,
     "metadata": {},
     "output_type": "execute_result"
    }
   ],
   "source": [
    "# Top Fiction Books and DVDs\n",
    "df_fiction = df[(df['Category Group']=='Fiction') & (df['Format Subgroup'].isin(['Book','Video Disc'])) ]\\\n",
    ".groupby(by=['Format Subgroup', 'Title'])['ItemCount'].sum().sort_values(ascending=False).reset_index()[:31]\n",
    "df_fiction"
   ]
  },
  {
   "cell_type": "code",
   "execution_count": 117,
   "metadata": {},
   "outputs": [
    {
     "data": {
      "image/png": "[encoded data removed]",
      "text/plain": [
       "<Figure size 864x432 with 1 Axes>"
      ]
     },
     "metadata": {},
     "output_type": "display_data"
    }
   ],
   "source": [
    "# shorten Title for chart purposes\n",
    "df_fiction['Title'] = df_fiction['Title'].apply(lambda x:x[:30])\n",
    "plt.figure(figsize=(12,6))\n",
    "plt.title('Top Fiction (Books and DVDs)')\n",
    "ax = sns.barplot(x='ItemCount', y='Title', data=df_fiction, palette='viridis')\n",
    "ax.set_xlabel('Total Copies')\n",
    "# plt.savefig('../../docs/images/topfiction.png')"
   ]
  },
  {
   "cell_type": "code",
   "execution_count": 121,
   "metadata": {},
   "outputs": [
    {
     "data": {
      "text/html": [
       "<div>\n",
       "<style scoped>\n",
       "    .dataframe tbody tr th:only-of-type {\n",
       "        vertical-align: middle;\n",
       "    }\n",
       "\n",
       "    .dataframe tbody tr th {\n",
       "        vertical-align: top;\n",
       "    }\n",
       "\n",
       "    .dataframe thead th {\n",
       "        text-align: right;\n",
       "    }\n",
       "</style>\n",
       "<table border=\"1\" class=\"dataframe\">\n",
       "  <thead>\n",
       "    <tr style=\"text-align: right;\">\n",
       "      <th></th>\n",
       "      <th>Format Subgroup</th>\n",
       "      <th>Title</th>\n",
       "      <th>ItemCount</th>\n",
       "    </tr>\n",
       "  </thead>\n",
       "  <tbody>\n",
       "    <tr>\n",
       "      <th>0</th>\n",
       "      <td>Book</td>\n",
       "      <td>Hillbilly elegy : a memoir of a family and cul...</td>\n",
       "      <td>273</td>\n",
       "    </tr>\n",
       "    <tr>\n",
       "      <th>1</th>\n",
       "      <td>Book</td>\n",
       "      <td>The sun and her flowers / Rupi Kaur.</td>\n",
       "      <td>244</td>\n",
       "    </tr>\n",
       "    <tr>\n",
       "      <th>2</th>\n",
       "      <td>Book</td>\n",
       "      <td>What happened / Hillary Rodham Clinton.</td>\n",
       "      <td>235</td>\n",
       "    </tr>\n",
       "    <tr>\n",
       "      <th>3</th>\n",
       "      <td>Book</td>\n",
       "      <td>You don't have to say you love me : a memoir /...</td>\n",
       "      <td>226</td>\n",
       "    </tr>\n",
       "    <tr>\n",
       "      <th>4</th>\n",
       "      <td>Book</td>\n",
       "      <td>The World Book encyclopedia.</td>\n",
       "      <td>177</td>\n",
       "    </tr>\n",
       "    <tr>\n",
       "      <th>5</th>\n",
       "      <td>Book</td>\n",
       "      <td>The World Book Encyclopedia.</td>\n",
       "      <td>175</td>\n",
       "    </tr>\n",
       "    <tr>\n",
       "      <th>6</th>\n",
       "      <td>Book</td>\n",
       "      <td>Born a crime : stories from a South African ch...</td>\n",
       "      <td>173</td>\n",
       "    </tr>\n",
       "    <tr>\n",
       "      <th>7</th>\n",
       "      <td>Book</td>\n",
       "      <td>Al Franken, giant of the Senate / by Al Franken.</td>\n",
       "      <td>166</td>\n",
       "    </tr>\n",
       "    <tr>\n",
       "      <th>8</th>\n",
       "      <td>Book</td>\n",
       "      <td>Norse mythology / Neil Gaiman.</td>\n",
       "      <td>163</td>\n",
       "    </tr>\n",
       "    <tr>\n",
       "      <th>9</th>\n",
       "      <td>Book</td>\n",
       "      <td>Option B : facing adversity, building resilien...</td>\n",
       "      <td>155</td>\n",
       "    </tr>\n",
       "    <tr>\n",
       "      <th>10</th>\n",
       "      <td>Book</td>\n",
       "      <td>Astrophysics for people in a hurry / Neil deGr...</td>\n",
       "      <td>150</td>\n",
       "    </tr>\n",
       "    <tr>\n",
       "      <th>11</th>\n",
       "      <td>Book</td>\n",
       "      <td>Theft by finding : diaries (1977-2002) / David...</td>\n",
       "      <td>149</td>\n",
       "    </tr>\n",
       "    <tr>\n",
       "      <th>12</th>\n",
       "      <td>Book</td>\n",
       "      <td>Hunger : a memoir of (my) body / Roxane Gay.</td>\n",
       "      <td>147</td>\n",
       "    </tr>\n",
       "    <tr>\n",
       "      <th>13</th>\n",
       "      <td>Book</td>\n",
       "      <td>Killers of the Flower Moon : the Osage murders...</td>\n",
       "      <td>147</td>\n",
       "    </tr>\n",
       "    <tr>\n",
       "      <th>14</th>\n",
       "      <td>Book</td>\n",
       "      <td>The subtle art of not giving a f*ck : a counte...</td>\n",
       "      <td>138</td>\n",
       "    </tr>\n",
       "    <tr>\n",
       "      <th>15</th>\n",
       "      <td>Book</td>\n",
       "      <td>The Aeroplane.</td>\n",
       "      <td>137</td>\n",
       "    </tr>\n",
       "    <tr>\n",
       "      <th>16</th>\n",
       "      <td>Book</td>\n",
       "      <td>Love and trouble : a midlife reckoning / Clair...</td>\n",
       "      <td>126</td>\n",
       "    </tr>\n",
       "    <tr>\n",
       "      <th>17</th>\n",
       "      <td>Book</td>\n",
       "      <td>Why Buddhism is true : the science and philoso...</td>\n",
       "      <td>124</td>\n",
       "    </tr>\n",
       "    <tr>\n",
       "      <th>18</th>\n",
       "      <td>Book</td>\n",
       "      <td>Seattle walks : discovering history and nature...</td>\n",
       "      <td>113</td>\n",
       "    </tr>\n",
       "    <tr>\n",
       "      <th>19</th>\n",
       "      <td>Book</td>\n",
       "      <td>The four tendencies : the indispensable person...</td>\n",
       "      <td>110</td>\n",
       "    </tr>\n",
       "    <tr>\n",
       "      <th>20</th>\n",
       "      <td>Book</td>\n",
       "      <td>Braving the wilderness : the quest for true be...</td>\n",
       "      <td>110</td>\n",
       "    </tr>\n",
       "    <tr>\n",
       "      <th>21</th>\n",
       "      <td>Book</td>\n",
       "      <td>Guinness world records.</td>\n",
       "      <td>110</td>\n",
       "    </tr>\n",
       "    <tr>\n",
       "      <th>22</th>\n",
       "      <td>Book</td>\n",
       "      <td>Between the world and me / Ta-Nehisi Coates.</td>\n",
       "      <td>110</td>\n",
       "    </tr>\n",
       "    <tr>\n",
       "      <th>23</th>\n",
       "      <td>Book</td>\n",
       "      <td>Discovering Seattle parks : a local's guide / ...</td>\n",
       "      <td>109</td>\n",
       "    </tr>\n",
       "    <tr>\n",
       "      <th>24</th>\n",
       "      <td>Book</td>\n",
       "      <td>Flight international.</td>\n",
       "      <td>108</td>\n",
       "    </tr>\n",
       "    <tr>\n",
       "      <th>25</th>\n",
       "      <td>Book</td>\n",
       "      <td>The undoing project : a friendship that change...</td>\n",
       "      <td>86</td>\n",
       "    </tr>\n",
       "    <tr>\n",
       "      <th>26</th>\n",
       "      <td>Video Disc</td>\n",
       "      <td>I am not your negro / written by James Baldwin...</td>\n",
       "      <td>85</td>\n",
       "    </tr>\n",
       "    <tr>\n",
       "      <th>27</th>\n",
       "      <td>Book</td>\n",
       "      <td>Strangers in their own land : anger and mourni...</td>\n",
       "      <td>84</td>\n",
       "    </tr>\n",
       "    <tr>\n",
       "      <th>28</th>\n",
       "      <td>Book</td>\n",
       "      <td>When breath becomes air / Paul Kalanithi ; for...</td>\n",
       "      <td>79</td>\n",
       "    </tr>\n",
       "    <tr>\n",
       "      <th>29</th>\n",
       "      <td>Book</td>\n",
       "      <td>Motor auto repair manual.</td>\n",
       "      <td>78</td>\n",
       "    </tr>\n",
       "    <tr>\n",
       "      <th>30</th>\n",
       "      <td>Book</td>\n",
       "      <td>Hidden figures : the American dream and the un...</td>\n",
       "      <td>77</td>\n",
       "    </tr>\n",
       "  </tbody>\n",
       "</table>\n",
       "</div>"
      ],
      "text/plain": [
       "   Format Subgroup                                              Title  \\\n",
       "0             Book  Hillbilly elegy : a memoir of a family and cul...   \n",
       "1             Book               The sun and her flowers / Rupi Kaur.   \n",
       "2             Book            What happened / Hillary Rodham Clinton.   \n",
       "3             Book  You don't have to say you love me : a memoir /...   \n",
       "4             Book                       The World Book encyclopedia.   \n",
       "5             Book                       The World Book Encyclopedia.   \n",
       "6             Book  Born a crime : stories from a South African ch...   \n",
       "7             Book   Al Franken, giant of the Senate / by Al Franken.   \n",
       "8             Book                     Norse mythology / Neil Gaiman.   \n",
       "9             Book  Option B : facing adversity, building resilien...   \n",
       "10            Book  Astrophysics for people in a hurry / Neil deGr...   \n",
       "11            Book  Theft by finding : diaries (1977-2002) / David...   \n",
       "12            Book       Hunger : a memoir of (my) body / Roxane Gay.   \n",
       "13            Book  Killers of the Flower Moon : the Osage murders...   \n",
       "14            Book  The subtle art of not giving a f*ck : a counte...   \n",
       "15            Book                                     The Aeroplane.   \n",
       "16            Book  Love and trouble : a midlife reckoning / Clair...   \n",
       "17            Book  Why Buddhism is true : the science and philoso...   \n",
       "18            Book  Seattle walks : discovering history and nature...   \n",
       "19            Book  The four tendencies : the indispensable person...   \n",
       "20            Book  Braving the wilderness : the quest for true be...   \n",
       "21            Book                            Guinness world records.   \n",
       "22            Book       Between the world and me / Ta-Nehisi Coates.   \n",
       "23            Book  Discovering Seattle parks : a local's guide / ...   \n",
       "24            Book                              Flight international.   \n",
       "25            Book  The undoing project : a friendship that change...   \n",
       "26      Video Disc  I am not your negro / written by James Baldwin...   \n",
       "27            Book  Strangers in their own land : anger and mourni...   \n",
       "28            Book  When breath becomes air / Paul Kalanithi ; for...   \n",
       "29            Book                          Motor auto repair manual.   \n",
       "30            Book  Hidden figures : the American dream and the un...   \n",
       "\n",
       "    ItemCount  \n",
       "0         273  \n",
       "1         244  \n",
       "2         235  \n",
       "3         226  \n",
       "4         177  \n",
       "5         175  \n",
       "6         173  \n",
       "7         166  \n",
       "8         163  \n",
       "9         155  \n",
       "10        150  \n",
       "11        149  \n",
       "12        147  \n",
       "13        147  \n",
       "14        138  \n",
       "15        137  \n",
       "16        126  \n",
       "17        124  \n",
       "18        113  \n",
       "19        110  \n",
       "20        110  \n",
       "21        110  \n",
       "22        110  \n",
       "23        109  \n",
       "24        108  \n",
       "25         86  \n",
       "26         85  \n",
       "27         84  \n",
       "28         79  \n",
       "29         78  \n",
       "30         77  "
      ]
     },
     "execution_count": 121,
     "metadata": {},
     "output_type": "execute_result"
    }
   ],
   "source": [
    "df_nonfiction = df[(df['Category Group']=='Nonfiction') & (df['Format Subgroup'].isin(['Book','Video Disc'])) & (df['BibNum']!=3030520)]\\\n",
    ".groupby(by=['Format Subgroup', 'Title'])['ItemCount'].sum().sort_values(ascending=False).reset_index()[:31]\n",
    "df_nonfiction"
   ]
  },
  {
   "cell_type": "code",
   "execution_count": 122,
   "metadata": {},
   "outputs": [
    {
     "data": {
      "image/png": "[encoded data removed]",
      "text/plain": [
       "<Figure size 864x432 with 1 Axes>"
      ]
     },
     "metadata": {},
     "output_type": "display_data"
    }
   ],
   "source": [
    "# shorten Title for chart purposes\n",
    "df_nonfiction['Title'] = df_nonfiction['Title'].apply(lambda x:x[:30])\n",
    "plt.figure(figsize=(12,6))\n",
    "plt.title('Top Nonfiction (Books and DVDs)')\n",
    "ax = sns.barplot(x='ItemCount', y='Title', data=df_nonfiction, palette='viridis')\n",
    "ax.set_xlabel('Total copies')\n",
    "# plt.savefig('../../docs/images/topnonfiction.png')"
   ]
  },
  {
   "cell_type": "markdown",
   "metadata": {},
   "source": [
    "### Who are the top book authors with the most copies in the collection?\n",
    "Dr. Seuss, the author of beloved children's books, has the most copies."
   ]
  },
  {
   "cell_type": "code",
   "execution_count": 125,
   "metadata": {},
   "outputs": [
    {
     "data": {
      "text/html": [
       "<div>\n",
       "<style scoped>\n",
       "    .dataframe tbody tr th:only-of-type {\n",
       "        vertical-align: middle;\n",
       "    }\n",
       "\n",
       "    .dataframe tbody tr th {\n",
       "        vertical-align: top;\n",
       "    }\n",
       "\n",
       "    .dataframe thead th {\n",
       "        text-align: right;\n",
       "    }\n",
       "</style>\n",
       "<table border=\"1\" class=\"dataframe\">\n",
       "  <thead>\n",
       "    <tr style=\"text-align: right;\">\n",
       "      <th></th>\n",
       "      <th>Author</th>\n",
       "      <th>ItemCount</th>\n",
       "    </tr>\n",
       "  </thead>\n",
       "  <tbody>\n",
       "    <tr>\n",
       "      <th>0</th>\n",
       "      <td>Seuss, Dr.</td>\n",
       "      <td>2778</td>\n",
       "    </tr>\n",
       "    <tr>\n",
       "      <th>1</th>\n",
       "      <td>Willems, Mo</td>\n",
       "      <td>2733</td>\n",
       "    </tr>\n",
       "    <tr>\n",
       "      <th>2</th>\n",
       "      <td>Patterson, James, 1947-</td>\n",
       "      <td>2132</td>\n",
       "    </tr>\n",
       "    <tr>\n",
       "      <th>3</th>\n",
       "      <td>Meadows, Daisy</td>\n",
       "      <td>2047</td>\n",
       "    </tr>\n",
       "    <tr>\n",
       "      <th>4</th>\n",
       "      <td>Stilton, Geronimo</td>\n",
       "      <td>1939</td>\n",
       "    </tr>\n",
       "    <tr>\n",
       "      <th>5</th>\n",
       "      <td>United States.</td>\n",
       "      <td>1672</td>\n",
       "    </tr>\n",
       "    <tr>\n",
       "      <th>6</th>\n",
       "      <td>Osborne, Mary Pope</td>\n",
       "      <td>1627</td>\n",
       "    </tr>\n",
       "    <tr>\n",
       "      <th>7</th>\n",
       "      <td>Holm, Jennifer L.</td>\n",
       "      <td>1436</td>\n",
       "    </tr>\n",
       "    <tr>\n",
       "      <th>8</th>\n",
       "      <td>Kertell, Lynn Maslen.</td>\n",
       "      <td>1426</td>\n",
       "    </tr>\n",
       "    <tr>\n",
       "      <th>9</th>\n",
       "      <td>Davis, Jim, 1945 July 28-</td>\n",
       "      <td>1411</td>\n",
       "    </tr>\n",
       "    <tr>\n",
       "      <th>10</th>\n",
       "      <td>Rylant, Cynthia</td>\n",
       "      <td>1268</td>\n",
       "    </tr>\n",
       "    <tr>\n",
       "      <th>11</th>\n",
       "      <td>Arnold, Tedd</td>\n",
       "      <td>1251</td>\n",
       "    </tr>\n",
       "    <tr>\n",
       "      <th>12</th>\n",
       "      <td>Pilkey, Dav, 1966-</td>\n",
       "      <td>1209</td>\n",
       "    </tr>\n",
       "    <tr>\n",
       "      <th>13</th>\n",
       "      <td>O'Connor, Jane</td>\n",
       "      <td>1149</td>\n",
       "    </tr>\n",
       "    <tr>\n",
       "      <th>14</th>\n",
       "      <td>Maslen, Bobby Lynn</td>\n",
       "      <td>1143</td>\n",
       "    </tr>\n",
       "    <tr>\n",
       "      <th>15</th>\n",
       "      <td>Adler, David A.</td>\n",
       "      <td>1081</td>\n",
       "    </tr>\n",
       "    <tr>\n",
       "      <th>16</th>\n",
       "      <td>Carle, Eric</td>\n",
       "      <td>1078</td>\n",
       "    </tr>\n",
       "    <tr>\n",
       "      <th>17</th>\n",
       "      <td>Shakespeare, William, 1564-1616</td>\n",
       "      <td>1052</td>\n",
       "    </tr>\n",
       "    <tr>\n",
       "      <th>18</th>\n",
       "      <td>Standard and Poor's Corporation</td>\n",
       "      <td>1034</td>\n",
       "    </tr>\n",
       "    <tr>\n",
       "      <th>19</th>\n",
       "      <td>Yolen, Jane</td>\n",
       "      <td>953</td>\n",
       "    </tr>\n",
       "    <tr>\n",
       "      <th>20</th>\n",
       "      <td>Washington (State)</td>\n",
       "      <td>933</td>\n",
       "    </tr>\n",
       "    <tr>\n",
       "      <th>21</th>\n",
       "      <td>Geological Survey (U.S.)</td>\n",
       "      <td>909</td>\n",
       "    </tr>\n",
       "    <tr>\n",
       "      <th>22</th>\n",
       "      <td>Kusaka, Hidenori</td>\n",
       "      <td>827</td>\n",
       "    </tr>\n",
       "    <tr>\n",
       "      <th>23</th>\n",
       "      <td>Gaiman, Neil</td>\n",
       "      <td>788</td>\n",
       "    </tr>\n",
       "    <tr>\n",
       "      <th>24</th>\n",
       "      <td>King, Stephen, 1947-</td>\n",
       "      <td>776</td>\n",
       "    </tr>\n",
       "    <tr>\n",
       "      <th>25</th>\n",
       "      <td>Capucilli, Alyssa Satin, 1957-</td>\n",
       "      <td>756</td>\n",
       "    </tr>\n",
       "    <tr>\n",
       "      <th>26</th>\n",
       "      <td>American Society for Testing and Materials</td>\n",
       "      <td>747</td>\n",
       "    </tr>\n",
       "    <tr>\n",
       "      <th>27</th>\n",
       "      <td>Ziefert, Harriet</td>\n",
       "      <td>743</td>\n",
       "    </tr>\n",
       "    <tr>\n",
       "      <th>28</th>\n",
       "      <td>McCall Smith, Alexander, 1948-</td>\n",
       "      <td>712</td>\n",
       "    </tr>\n",
       "    <tr>\n",
       "      <th>29</th>\n",
       "      <td>Riordan, Rick</td>\n",
       "      <td>710</td>\n",
       "    </tr>\n",
       "    <tr>\n",
       "      <th>30</th>\n",
       "      <td>Keene, Carolyn</td>\n",
       "      <td>709</td>\n",
       "    </tr>\n",
       "  </tbody>\n",
       "</table>\n",
       "</div>"
      ],
      "text/plain": [
       "                                        Author  ItemCount\n",
       "0                                   Seuss, Dr.       2778\n",
       "1                                  Willems, Mo       2733\n",
       "2                      Patterson, James, 1947-       2132\n",
       "3                               Meadows, Daisy       2047\n",
       "4                            Stilton, Geronimo       1939\n",
       "5                               United States.       1672\n",
       "6                           Osborne, Mary Pope       1627\n",
       "7                            Holm, Jennifer L.       1436\n",
       "8                        Kertell, Lynn Maslen.       1426\n",
       "9                    Davis, Jim, 1945 July 28-       1411\n",
       "10                             Rylant, Cynthia       1268\n",
       "11                                Arnold, Tedd       1251\n",
       "12                          Pilkey, Dav, 1966-       1209\n",
       "13                              O'Connor, Jane       1149\n",
       "14                          Maslen, Bobby Lynn       1143\n",
       "15                             Adler, David A.       1081\n",
       "16                                 Carle, Eric       1078\n",
       "17             Shakespeare, William, 1564-1616       1052\n",
       "18             Standard and Poor's Corporation       1034\n",
       "19                                 Yolen, Jane        953\n",
       "20                          Washington (State)        933\n",
       "21                    Geological Survey (U.S.)        909\n",
       "22                            Kusaka, Hidenori        827\n",
       "23                                Gaiman, Neil        788\n",
       "24                        King, Stephen, 1947-        776\n",
       "25              Capucilli, Alyssa Satin, 1957-        756\n",
       "26  American Society for Testing and Materials        747\n",
       "27                            Ziefert, Harriet        743\n",
       "28              McCall Smith, Alexander, 1948-        712\n",
       "29                               Riordan, Rick        710\n",
       "30                              Keene, Carolyn        709"
      ]
     },
     "execution_count": 125,
     "metadata": {},
     "output_type": "execute_result"
    }
   ],
   "source": [
    "# Top Authors\n",
    "df_author = df[df['Format Subgroup']=='Book']\\\n",
    ".groupby(by='Author')['ItemCount'].sum().sort_values(ascending=False).reset_index()[:31]\n",
    "df_author"
   ]
  },
  {
   "cell_type": "markdown",
   "metadata": {},
   "source": [
    "### What are the most common CDs in the collection?\n",
    "We can see that the top CD is the \"Jazziz on disc\" compilation. The rest of the list is largely current popular music and some artists are perhaps over represented because they are from Seattle ie. Macklemore and Fleet Foxes"
   ]
  },
  {
   "cell_type": "code",
   "execution_count": 124,
   "metadata": {},
   "outputs": [
    {
     "data": {
      "text/html": [
       "<div>\n",
       "<style scoped>\n",
       "    .dataframe tbody tr th:only-of-type {\n",
       "        vertical-align: middle;\n",
       "    }\n",
       "\n",
       "    .dataframe tbody tr th {\n",
       "        vertical-align: top;\n",
       "    }\n",
       "\n",
       "    .dataframe thead th {\n",
       "        text-align: right;\n",
       "    }\n",
       "</style>\n",
       "<table border=\"1\" class=\"dataframe\">\n",
       "  <thead>\n",
       "    <tr style=\"text-align: right;\">\n",
       "      <th></th>\n",
       "      <th>Title</th>\n",
       "      <th>ItemCount</th>\n",
       "    </tr>\n",
       "  </thead>\n",
       "  <tbody>\n",
       "    <tr>\n",
       "      <th>0</th>\n",
       "      <td>Jazziz on disc. [sound recording]</td>\n",
       "      <td>56</td>\n",
       "    </tr>\n",
       "    <tr>\n",
       "      <th>1</th>\n",
       "      <td>Melodrama / Lorde.</td>\n",
       "      <td>45</td>\n",
       "    </tr>\n",
       "    <tr>\n",
       "      <th>2</th>\n",
       "      <td>Lemonade / Beyoncé.</td>\n",
       "      <td>43</td>\n",
       "    </tr>\n",
       "    <tr>\n",
       "      <th>3</th>\n",
       "      <td>We got it from here... thank you 4 your servic...</td>\n",
       "      <td>42</td>\n",
       "    </tr>\n",
       "    <tr>\n",
       "      <th>4</th>\n",
       "      <td>Everything now / Arcade Fire.</td>\n",
       "      <td>40</td>\n",
       "    </tr>\n",
       "    <tr>\n",
       "      <th>5</th>\n",
       "      <td>Crack-up / Fleet Foxes.</td>\n",
       "      <td>36</td>\n",
       "    </tr>\n",
       "    <tr>\n",
       "      <th>6</th>\n",
       "      <td>Hamilton [sound recording] : an American music...</td>\n",
       "      <td>36</td>\n",
       "    </tr>\n",
       "    <tr>\n",
       "      <th>7</th>\n",
       "      <td>La La Land : original motion picture soundtrack.</td>\n",
       "      <td>35</td>\n",
       "    </tr>\n",
       "    <tr>\n",
       "      <th>8</th>\n",
       "      <td>This unruly mess I've made / Macklemore &amp; Ryan...</td>\n",
       "      <td>35</td>\n",
       "    </tr>\n",
       "    <tr>\n",
       "      <th>9</th>\n",
       "      <td>You want it darker / Leonard Cohen.</td>\n",
       "      <td>35</td>\n",
       "    </tr>\n",
       "    <tr>\n",
       "      <th>10</th>\n",
       "      <td>Moana : soundtrack / original songs by Lin-Man...</td>\n",
       "      <td>34</td>\n",
       "    </tr>\n",
       "    <tr>\n",
       "      <th>11</th>\n",
       "      <td>A moon shaped pool / Radiohead.</td>\n",
       "      <td>34</td>\n",
       "    </tr>\n",
       "    <tr>\n",
       "      <th>12</th>\n",
       "      <td>Frozen [sound recording] : soundtrack / origin...</td>\n",
       "      <td>31</td>\n",
       "    </tr>\n",
       "    <tr>\n",
       "      <th>13</th>\n",
       "      <td>Hot thoughts / Spoon.</td>\n",
       "      <td>31</td>\n",
       "    </tr>\n",
       "    <tr>\n",
       "      <th>14</th>\n",
       "      <td>To pimp a butterfly [sound recording] / Kendri...</td>\n",
       "      <td>31</td>\n",
       "    </tr>\n",
       "    <tr>\n",
       "      <th>15</th>\n",
       "      <td>Rainbow / Kesha.</td>\n",
       "      <td>31</td>\n",
       "    </tr>\n",
       "    <tr>\n",
       "      <th>16</th>\n",
       "      <td>A deeper understanding / the War on Drugs.</td>\n",
       "      <td>31</td>\n",
       "    </tr>\n",
       "    <tr>\n",
       "      <th>17</th>\n",
       "      <td>Lust for life / Lana Del Rey.</td>\n",
       "      <td>31</td>\n",
       "    </tr>\n",
       "    <tr>\n",
       "      <th>18</th>\n",
       "      <td>Relaxer / [Alt-J]</td>\n",
       "      <td>30</td>\n",
       "    </tr>\n",
       "    <tr>\n",
       "      <th>19</th>\n",
       "      <td>The Hamilton mixtape.</td>\n",
       "      <td>30</td>\n",
       "    </tr>\n",
       "    <tr>\n",
       "      <th>20</th>\n",
       "      <td>Guardians of the galaxy. Awesome mix, Vol. 2.</td>\n",
       "      <td>30</td>\n",
       "    </tr>\n",
       "    <tr>\n",
       "      <th>21</th>\n",
       "      <td>Damn / Kendrick Lamar.</td>\n",
       "      <td>30</td>\n",
       "    </tr>\n",
       "    <tr>\n",
       "      <th>22</th>\n",
       "      <td>XXIVK magic / Bruno Mars.</td>\n",
       "      <td>30</td>\n",
       "    </tr>\n",
       "    <tr>\n",
       "      <th>23</th>\n",
       "      <td>Starboy / the Weeknd.</td>\n",
       "      <td>29</td>\n",
       "    </tr>\n",
       "    <tr>\n",
       "      <th>24</th>\n",
       "      <td>Case/Lang/Veirs.</td>\n",
       "      <td>29</td>\n",
       "    </tr>\n",
       "    <tr>\n",
       "      <th>25</th>\n",
       "      <td>Blue &amp; lonesome / Rolling Stones.</td>\n",
       "      <td>29</td>\n",
       "    </tr>\n",
       "    <tr>\n",
       "      <th>26</th>\n",
       "      <td>22, a million / Bon Iver.</td>\n",
       "      <td>29</td>\n",
       "    </tr>\n",
       "    <tr>\n",
       "      <th>27</th>\n",
       "      <td>A seat at the table / Solange.</td>\n",
       "      <td>29</td>\n",
       "    </tr>\n",
       "    <tr>\n",
       "      <th>28</th>\n",
       "      <td>I see you / the XX.</td>\n",
       "      <td>28</td>\n",
       "    </tr>\n",
       "    <tr>\n",
       "      <th>29</th>\n",
       "      <td>The very best of Prince.</td>\n",
       "      <td>28</td>\n",
       "    </tr>\n",
       "    <tr>\n",
       "      <th>30</th>\n",
       "      <td>Divide / Ed Sheeran.</td>\n",
       "      <td>28</td>\n",
       "    </tr>\n",
       "  </tbody>\n",
       "</table>\n",
       "</div>"
      ],
      "text/plain": [
       "                                                Title  ItemCount\n",
       "0                   Jazziz on disc. [sound recording]         56\n",
       "1                                  Melodrama / Lorde.         45\n",
       "2                                 Lemonade / Beyoncé.         43\n",
       "3   We got it from here... thank you 4 your servic...         42\n",
       "4                       Everything now / Arcade Fire.         40\n",
       "5                             Crack-up / Fleet Foxes.         36\n",
       "6   Hamilton [sound recording] : an American music...         36\n",
       "7    La La Land : original motion picture soundtrack.         35\n",
       "8   This unruly mess I've made / Macklemore & Ryan...         35\n",
       "9                 You want it darker / Leonard Cohen.         35\n",
       "10  Moana : soundtrack / original songs by Lin-Man...         34\n",
       "11                    A moon shaped pool / Radiohead.         34\n",
       "12  Frozen [sound recording] : soundtrack / origin...         31\n",
       "13                              Hot thoughts / Spoon.         31\n",
       "14  To pimp a butterfly [sound recording] / Kendri...         31\n",
       "15                                   Rainbow / Kesha.         31\n",
       "16         A deeper understanding / the War on Drugs.         31\n",
       "17                      Lust for life / Lana Del Rey.         31\n",
       "18                                  Relaxer / [Alt-J]         30\n",
       "19                              The Hamilton mixtape.         30\n",
       "20      Guardians of the galaxy. Awesome mix, Vol. 2.         30\n",
       "21                             Damn / Kendrick Lamar.         30\n",
       "22                          XXIVK magic / Bruno Mars.         30\n",
       "23                              Starboy / the Weeknd.         29\n",
       "24                                   Case/Lang/Veirs.         29\n",
       "25                  Blue & lonesome / Rolling Stones.         29\n",
       "26                          22, a million / Bon Iver.         29\n",
       "27                     A seat at the table / Solange.         29\n",
       "28                                I see you / the XX.         28\n",
       "29                           The very best of Prince.         28\n",
       "30                               Divide / Ed Sheeran.         28"
      ]
     },
     "execution_count": 124,
     "metadata": {},
     "output_type": "execute_result"
    }
   ],
   "source": [
    "# Top CDs\n",
    "df_audio = df[df['Format Subgroup']=='Audio Disc']\\\n",
    ".groupby(by='Title')['ItemCount'].sum().sort_values(ascending=False).reset_index()[:31]\n",
    "df_audio"
   ]
  },
  {
   "cell_type": "markdown",
   "metadata": {},
   "source": [
    "### Who are the top book publishers represented in the collection?\n",
    "Random house has the most books in the collection but it's interesting to see that some publishers are represented multiple times because of their various imprints. For example, Simon & Schuster has a children's division named Simon & Schuster Books for Young Readers. HarperCollins is the flagship and has many divisions including Harper. It would take further investigation to determine whether duplicates represent different divisions and not input errors."
   ]
  },
  {
   "cell_type": "code",
   "execution_count": 126,
   "metadata": {},
   "outputs": [
    {
     "data": {
      "text/html": [
       "<div>\n",
       "<style scoped>\n",
       "    .dataframe tbody tr th:only-of-type {\n",
       "        vertical-align: middle;\n",
       "    }\n",
       "\n",
       "    .dataframe tbody tr th {\n",
       "        vertical-align: top;\n",
       "    }\n",
       "\n",
       "    .dataframe thead th {\n",
       "        text-align: right;\n",
       "    }\n",
       "</style>\n",
       "<table border=\"1\" class=\"dataframe\">\n",
       "  <thead>\n",
       "    <tr style=\"text-align: right;\">\n",
       "      <th></th>\n",
       "      <th>Publisher</th>\n",
       "      <th>ItemCount</th>\n",
       "    </tr>\n",
       "  </thead>\n",
       "  <tbody>\n",
       "    <tr>\n",
       "      <th>0</th>\n",
       "      <td>Random House,</td>\n",
       "      <td>22926</td>\n",
       "    </tr>\n",
       "    <tr>\n",
       "      <th>1</th>\n",
       "      <td>Alfred A. Knopf,</td>\n",
       "      <td>12593</td>\n",
       "    </tr>\n",
       "    <tr>\n",
       "      <th>2</th>\n",
       "      <td>Candlewick Press,</td>\n",
       "      <td>11990</td>\n",
       "    </tr>\n",
       "    <tr>\n",
       "      <th>3</th>\n",
       "      <td>Thorndike Press,</td>\n",
       "      <td>11192</td>\n",
       "    </tr>\n",
       "    <tr>\n",
       "      <th>4</th>\n",
       "      <td>Houghton Mifflin Harcourt,</td>\n",
       "      <td>10713</td>\n",
       "    </tr>\n",
       "    <tr>\n",
       "      <th>5</th>\n",
       "      <td>Simon &amp; Schuster,</td>\n",
       "      <td>9171</td>\n",
       "    </tr>\n",
       "    <tr>\n",
       "      <th>6</th>\n",
       "      <td>Harper,</td>\n",
       "      <td>9010</td>\n",
       "    </tr>\n",
       "    <tr>\n",
       "      <th>7</th>\n",
       "      <td>Little, Brown and Company,</td>\n",
       "      <td>8793</td>\n",
       "    </tr>\n",
       "    <tr>\n",
       "      <th>8</th>\n",
       "      <td>Viking,</td>\n",
       "      <td>8530</td>\n",
       "    </tr>\n",
       "    <tr>\n",
       "      <th>9</th>\n",
       "      <td>Scholastic,</td>\n",
       "      <td>8194</td>\n",
       "    </tr>\n",
       "    <tr>\n",
       "      <th>10</th>\n",
       "      <td>St. Martin's Press,</td>\n",
       "      <td>7809</td>\n",
       "    </tr>\n",
       "    <tr>\n",
       "      <th>11</th>\n",
       "      <td>Oxford University Press,</td>\n",
       "      <td>7557</td>\n",
       "    </tr>\n",
       "    <tr>\n",
       "      <th>12</th>\n",
       "      <td>Harper, an imprint of HarperCollinsPublishers,</td>\n",
       "      <td>7360</td>\n",
       "    </tr>\n",
       "    <tr>\n",
       "      <th>13</th>\n",
       "      <td>Simon &amp; Schuster Books for Young Readers,</td>\n",
       "      <td>6349</td>\n",
       "    </tr>\n",
       "    <tr>\n",
       "      <th>14</th>\n",
       "      <td>DK Publishing,</td>\n",
       "      <td>6155</td>\n",
       "    </tr>\n",
       "    <tr>\n",
       "      <th>15</th>\n",
       "      <td>Scribner,</td>\n",
       "      <td>6020</td>\n",
       "    </tr>\n",
       "    <tr>\n",
       "      <th>16</th>\n",
       "      <td>Simon Spotlight,</td>\n",
       "      <td>5987</td>\n",
       "    </tr>\n",
       "    <tr>\n",
       "      <th>17</th>\n",
       "      <td>Scholastic Inc.,</td>\n",
       "      <td>5912</td>\n",
       "    </tr>\n",
       "    <tr>\n",
       "      <th>18</th>\n",
       "      <td>HarperCollins,</td>\n",
       "      <td>5729</td>\n",
       "    </tr>\n",
       "    <tr>\n",
       "      <th>19</th>\n",
       "      <td>National Geographic,</td>\n",
       "      <td>5630</td>\n",
       "    </tr>\n",
       "    <tr>\n",
       "      <th>20</th>\n",
       "      <td>Doubleday,</td>\n",
       "      <td>5618</td>\n",
       "    </tr>\n",
       "    <tr>\n",
       "      <th>21</th>\n",
       "      <td>Chronicle Books,</td>\n",
       "      <td>5598</td>\n",
       "    </tr>\n",
       "    <tr>\n",
       "      <th>22</th>\n",
       "      <td>Farrar, Straus and Giroux,</td>\n",
       "      <td>5569</td>\n",
       "    </tr>\n",
       "    <tr>\n",
       "      <th>23</th>\n",
       "      <td>Holiday House,</td>\n",
       "      <td>5508</td>\n",
       "    </tr>\n",
       "    <tr>\n",
       "      <th>24</th>\n",
       "      <td>Ballantine Books,</td>\n",
       "      <td>5371</td>\n",
       "    </tr>\n",
       "    <tr>\n",
       "      <th>25</th>\n",
       "      <td>DC Comics,</td>\n",
       "      <td>5071</td>\n",
       "    </tr>\n",
       "    <tr>\n",
       "      <th>26</th>\n",
       "      <td>Atheneum Books for Young Readers,</td>\n",
       "      <td>5018</td>\n",
       "    </tr>\n",
       "    <tr>\n",
       "      <th>27</th>\n",
       "      <td>Scholastic Press,</td>\n",
       "      <td>4988</td>\n",
       "    </tr>\n",
       "    <tr>\n",
       "      <th>28</th>\n",
       "      <td>Penguin Books,</td>\n",
       "      <td>4833</td>\n",
       "    </tr>\n",
       "    <tr>\n",
       "      <th>29</th>\n",
       "      <td>G.P. Putnam's Sons,</td>\n",
       "      <td>4822</td>\n",
       "    </tr>\n",
       "    <tr>\n",
       "      <th>30</th>\n",
       "      <td>Bloomsbury,</td>\n",
       "      <td>4347</td>\n",
       "    </tr>\n",
       "  </tbody>\n",
       "</table>\n",
       "</div>"
      ],
      "text/plain": [
       "                                         Publisher  ItemCount\n",
       "0                                    Random House,      22926\n",
       "1                                 Alfred A. Knopf,      12593\n",
       "2                                Candlewick Press,      11990\n",
       "3                                 Thorndike Press,      11192\n",
       "4                       Houghton Mifflin Harcourt,      10713\n",
       "5                                Simon & Schuster,       9171\n",
       "6                                          Harper,       9010\n",
       "7                       Little, Brown and Company,       8793\n",
       "8                                          Viking,       8530\n",
       "9                                      Scholastic,       8194\n",
       "10                             St. Martin's Press,       7809\n",
       "11                        Oxford University Press,       7557\n",
       "12  Harper, an imprint of HarperCollinsPublishers,       7360\n",
       "13       Simon & Schuster Books for Young Readers,       6349\n",
       "14                                  DK Publishing,       6155\n",
       "15                                       Scribner,       6020\n",
       "16                                Simon Spotlight,       5987\n",
       "17                                Scholastic Inc.,       5912\n",
       "18                                  HarperCollins,       5729\n",
       "19                            National Geographic,       5630\n",
       "20                                      Doubleday,       5618\n",
       "21                                Chronicle Books,       5598\n",
       "22                      Farrar, Straus and Giroux,       5569\n",
       "23                                  Holiday House,       5508\n",
       "24                               Ballantine Books,       5371\n",
       "25                                      DC Comics,       5071\n",
       "26               Atheneum Books for Young Readers,       5018\n",
       "27                               Scholastic Press,       4988\n",
       "28                                  Penguin Books,       4833\n",
       "29                             G.P. Putnam's Sons,       4822\n",
       "30                                     Bloomsbury,       4347"
      ]
     },
     "execution_count": 126,
     "metadata": {},
     "output_type": "execute_result"
    }
   ],
   "source": [
    "# Top Publishers\n",
    "df_pub = df[df['Format Subgroup']=='Book']\\\n",
    ".groupby(by='Publisher')['ItemCount'].sum().sort_values(ascending=False).reset_index()[:31]\n",
    "df_pub"
   ]
  },
  {
   "cell_type": "code",
   "execution_count": 127,
   "metadata": {},
   "outputs": [
    {
     "data": {
      "image/png": "[encoded data removed]",
      "text/plain": [
       "<Figure size 864x432 with 1 Axes>"
      ]
     },
     "metadata": {},
     "output_type": "display_data"
    }
   ],
   "source": [
    "plt.figure(figsize=(12,6))\n",
    "plt.title('Top Publishers')\n",
    "ax = sns.barplot(x='ItemCount', y='Publisher', data=df_pub, palette='viridis')\n",
    "ax.set_xlabel('Book Count')\n",
    "# plt.savefig('../../docs/images/toppublishers.png')"
   ]
  },
  {
   "cell_type": "markdown",
   "metadata": {},
   "source": [
    "### Drop unnecessary columns\n",
    "PublicationYear has been replaced by Age and the Code column is no longer useful."
   ]
  },
  {
   "cell_type": "code",
   "execution_count": 129,
   "metadata": {},
   "outputs": [],
   "source": [
    "df.drop(['Code', 'PublicationYear'], axis=1, inplace=True)"
   ]
  },
  {
   "cell_type": "markdown",
   "metadata": {},
   "source": [
    "### Save new Library collection file\n",
    "The new file will be used to join with the checkouts file in the next phase."
   ]
  },
  {
   "cell_type": "code",
   "execution_count": 130,
   "metadata": {},
   "outputs": [],
   "source": [
    "df.to_csv('../../data/processed/collection.csv',index=False)"
   ]
  },
  {
   "cell_type": "markdown",
   "metadata": {},
   "source": [
    "### Conclusion\n",
    "This concludes the Basic EDA of the full inventory collection. While the checkout behaviour and dataset is the main focus, the library catalogue itself merits at least the quick look given here. The resulting processed file from this notebook will be used to join with the checkout dataset. A brief wrangling and a full EDA of the merged datasets will follow."
   ]
  }
 ],
 "metadata": {
  "kernelspec": {
   "display_name": "Python 3",
   "language": "python",
   "name": "python3"
  },
  "language_info": {
   "codemirror_mode": {
    "name": "ipython",
    "version": 3
   },
   "file_extension": ".py",
   "mimetype": "text/x-python",
   "name": "python",
   "nbconvert_exporter": "python",
   "pygments_lexer": "ipython3",
   "version": "3.6.5"
  }
 },
 "nbformat": 4,
 "nbformat_minor": 2
}
